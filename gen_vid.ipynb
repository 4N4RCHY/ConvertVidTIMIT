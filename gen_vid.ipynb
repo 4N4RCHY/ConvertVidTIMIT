{
 "cells": [
  {
   "cell_type": "code",
   "execution_count": 7,
   "id": "d2edd26b",
   "metadata": {},
   "outputs": [],
   "source": [
    "import os,cv2\n",
    "from tqdm import tqdm\n",
    "from matplotlib import pyplot as plt"
   ]
  },
  {
   "cell_type": "code",
   "execution_count": 8,
   "id": "a6f9ccb6",
   "metadata": {},
   "outputs": [],
   "source": [
    "input=\"C:/Users/34942/Desktop/VidTIMIT/\"\n",
    "split=\"/video/\"\n",
    "gen_list = []"
   ]
  },
  {
   "cell_type": "code",
   "execution_count": 9,
   "id": "ded118fa",
   "metadata": {
    "scrolled": true
   },
   "outputs": [],
   "source": [
    "f_list=os.listdir(input)\n",
    "f_list.sort()"
   ]
  },
  {
   "cell_type": "code",
   "execution_count": 11,
   "id": "9b8e1f73",
   "metadata": {
    "scrolled": false
   },
   "outputs": [
    {
     "name": "stderr",
     "output_type": "stream",
     "text": [
      "  2%|█▉                                                                              | 14/584 [00:00<00:04, 134.61it/s]"
     ]
    },
    {
     "name": "stdout",
     "output_type": "stream",
     "text": [
      "C:/Users/34942/Desktop/VidTIMIT_2/mccs0_head.avi\n"
     ]
    },
    {
     "name": "stderr",
     "output_type": "stream",
     "text": [
      "100%|███████████████████████████████████████████████████████████████████████████████| 584/584 [00:03<00:00, 154.50it/s]\n",
      "  3%|██                                                                              | 16/625 [00:00<00:03, 158.40it/s]"
     ]
    },
    {
     "name": "stdout",
     "output_type": "stream",
     "text": [
      "C:/Users/34942/Desktop/VidTIMIT_2/mccs0_head2.avi\n"
     ]
    },
    {
     "name": "stderr",
     "output_type": "stream",
     "text": [
      "100%|███████████████████████████████████████████████████████████████████████████████| 625/625 [00:04<00:00, 152.39it/s]\n",
      "  2%|█▋                                                                              | 16/733 [00:00<00:04, 156.75it/s]"
     ]
    },
    {
     "name": "stdout",
     "output_type": "stream",
     "text": [
      "C:/Users/34942/Desktop/VidTIMIT_2/mccs0_head3.avi\n"
     ]
    },
    {
     "name": "stderr",
     "output_type": "stream",
     "text": [
      "100%|███████████████████████████████████████████████████████████████████████████████| 733/733 [00:04<00:00, 156.59it/s]\n",
      " 19%|███████████████▌                                                                 | 18/94 [00:00<00:00, 163.01it/s]"
     ]
    },
    {
     "name": "stdout",
     "output_type": "stream",
     "text": [
      "C:/Users/34942/Desktop/VidTIMIT_2/mccs0_sa1.avi\n"
     ]
    },
    {
     "name": "stderr",
     "output_type": "stream",
     "text": [
      "100%|█████████████████████████████████████████████████████████████████████████████████| 94/94 [00:00<00:00, 158.11it/s]\n",
      " 18%|██████████████▊                                                                  | 17/93 [00:00<00:00, 166.35it/s]"
     ]
    },
    {
     "name": "stdout",
     "output_type": "stream",
     "text": [
      "C:/Users/34942/Desktop/VidTIMIT_2/mccs0_sa2.avi\n"
     ]
    },
    {
     "name": "stderr",
     "output_type": "stream",
     "text": [
      "100%|█████████████████████████████████████████████████████████████████████████████████| 93/93 [00:00<00:00, 149.97it/s]\n",
      " 15%|███████████▋                                                                    | 16/109 [00:00<00:00, 154.58it/s]"
     ]
    },
    {
     "name": "stdout",
     "output_type": "stream",
     "text": [
      "C:/Users/34942/Desktop/VidTIMIT_2/mccs0_si1469.avi\n"
     ]
    },
    {
     "name": "stderr",
     "output_type": "stream",
     "text": [
      "100%|███████████████████████████████████████████████████████████████████████████████| 109/109 [00:00<00:00, 153.22it/s]\n",
      " 23%|██████████████████▍                                                              | 18/79 [00:00<00:00, 168.95it/s]"
     ]
    },
    {
     "name": "stdout",
     "output_type": "stream",
     "text": [
      "C:/Users/34942/Desktop/VidTIMIT_2/mccs0_si2099.avi\n"
     ]
    },
    {
     "name": "stderr",
     "output_type": "stream",
     "text": [
      "100%|█████████████████████████████████████████████████████████████████████████████████| 79/79 [00:00<00:00, 157.37it/s]\n",
      " 15%|███████████▊                                                                    | 17/115 [00:00<00:00, 164.07it/s]"
     ]
    },
    {
     "name": "stdout",
     "output_type": "stream",
     "text": [
      "C:/Users/34942/Desktop/VidTIMIT_2/mccs0_si839.avi\n"
     ]
    },
    {
     "name": "stderr",
     "output_type": "stream",
     "text": [
      "100%|███████████████████████████████████████████████████████████████████████████████| 115/115 [00:00<00:00, 130.88it/s]\n",
      " 20%|████████████████▏                                                                | 16/80 [00:00<00:00, 159.21it/s]"
     ]
    },
    {
     "name": "stdout",
     "output_type": "stream",
     "text": [
      "C:/Users/34942/Desktop/VidTIMIT_2/mccs0_sx119.avi\n"
     ]
    },
    {
     "name": "stderr",
     "output_type": "stream",
     "text": [
      "100%|█████████████████████████████████████████████████████████████████████████████████| 80/80 [00:00<00:00, 155.71it/s]\n",
      " 22%|██████████████████                                                               | 16/72 [00:00<00:00, 144.06it/s]"
     ]
    },
    {
     "name": "stdout",
     "output_type": "stream",
     "text": [
      "C:/Users/34942/Desktop/VidTIMIT_2/mccs0_sx209.avi\n"
     ]
    },
    {
     "name": "stderr",
     "output_type": "stream",
     "text": [
      "100%|█████████████████████████████████████████████████████████████████████████████████| 72/72 [00:00<00:00, 145.57it/s]\n",
      " 17%|██████████████                                                                   | 17/98 [00:00<00:00, 158.05it/s]"
     ]
    },
    {
     "name": "stdout",
     "output_type": "stream",
     "text": [
      "C:/Users/34942/Desktop/VidTIMIT_2/mccs0_sx29.avi\n"
     ]
    },
    {
     "name": "stderr",
     "output_type": "stream",
     "text": [
      "100%|█████████████████████████████████████████████████████████████████████████████████| 98/98 [00:00<00:00, 153.95it/s]\n",
      " 21%|█████████████████▏                                                               | 17/80 [00:00<00:00, 159.18it/s]"
     ]
    },
    {
     "name": "stdout",
     "output_type": "stream",
     "text": [
      "C:/Users/34942/Desktop/VidTIMIT_2/mccs0_sx299.avi\n"
     ]
    },
    {
     "name": "stderr",
     "output_type": "stream",
     "text": [
      "100%|█████████████████████████████████████████████████████████████████████████████████| 80/80 [00:00<00:00, 156.10it/s]\n",
      " 27%|█████████████████████▊                                                           | 17/63 [00:00<00:00, 164.00it/s]"
     ]
    },
    {
     "name": "stdout",
     "output_type": "stream",
     "text": [
      "C:/Users/34942/Desktop/VidTIMIT_2/mccs0_sx389.avi\n"
     ]
    },
    {
     "name": "stderr",
     "output_type": "stream",
     "text": [
      "100%|█████████████████████████████████████████████████████████████████████████████████| 63/63 [00:00<00:00, 154.63it/s]\n",
      "  4%|███▎                                                                            | 15/365 [00:00<00:02, 145.58it/s]"
     ]
    },
    {
     "name": "stdout",
     "output_type": "stream",
     "text": [
      "C:/Users/34942/Desktop/VidTIMIT_2/mcem0_head.avi\n"
     ]
    },
    {
     "name": "stderr",
     "output_type": "stream",
     "text": [
      "100%|███████████████████████████████████████████████████████████████████████████████| 365/365 [00:02<00:00, 155.56it/s]\n",
      "  4%|███▍                                                                            | 16/368 [00:00<00:02, 155.08it/s]"
     ]
    },
    {
     "name": "stdout",
     "output_type": "stream",
     "text": [
      "C:/Users/34942/Desktop/VidTIMIT_2/mcem0_head2.avi\n"
     ]
    },
    {
     "name": "stderr",
     "output_type": "stream",
     "text": [
      "100%|███████████████████████████████████████████████████████████████████████████████| 368/368 [00:02<00:00, 153.20it/s]\n",
      "  4%|██▉                                                                             | 17/472 [00:00<00:02, 154.21it/s]"
     ]
    },
    {
     "name": "stdout",
     "output_type": "stream",
     "text": [
      "C:/Users/34942/Desktop/VidTIMIT_2/mcem0_head3.avi\n"
     ]
    },
    {
     "name": "stderr",
     "output_type": "stream",
     "text": [
      "100%|███████████████████████████████████████████████████████████████████████████████| 472/472 [00:03<00:00, 154.58it/s]\n",
      " 15%|███████████▊                                                                    | 15/102 [00:00<00:00, 143.29it/s]"
     ]
    },
    {
     "name": "stdout",
     "output_type": "stream",
     "text": [
      "C:/Users/34942/Desktop/VidTIMIT_2/mcem0_sa1.avi\n"
     ]
    },
    {
     "name": "stderr",
     "output_type": "stream",
     "text": [
      "100%|███████████████████████████████████████████████████████████████████████████████| 102/102 [00:00<00:00, 152.32it/s]\n",
      " 21%|████████████████▌                                                                | 16/78 [00:00<00:00, 152.37it/s]"
     ]
    },
    {
     "name": "stdout",
     "output_type": "stream",
     "text": [
      "C:/Users/34942/Desktop/VidTIMIT_2/mcem0_sa2.avi\n"
     ]
    },
    {
     "name": "stderr",
     "output_type": "stream",
     "text": [
      "100%|█████████████████████████████████████████████████████████████████████████████████| 78/78 [00:00<00:00, 149.66it/s]\n",
      " 47%|██████████████████████████████████████                                           | 32/68 [00:00<00:00, 153.57it/s]"
     ]
    },
    {
     "name": "stdout",
     "output_type": "stream",
     "text": [
      "C:/Users/34942/Desktop/VidTIMIT_2/mcem0_si1398.avi\n"
     ]
    },
    {
     "name": "stderr",
     "output_type": "stream",
     "text": [
      "100%|█████████████████████████████████████████████████████████████████████████████████| 68/68 [00:00<00:00, 147.93it/s]\n",
      " 25%|████████████████████▎                                                           | 32/126 [00:00<00:00, 153.32it/s]"
     ]
    },
    {
     "name": "stdout",
     "output_type": "stream",
     "text": [
      "C:/Users/34942/Desktop/VidTIMIT_2/mcem0_si2028.avi\n"
     ]
    },
    {
     "name": "stderr",
     "output_type": "stream",
     "text": [
      "100%|███████████████████████████████████████████████████████████████████████████████| 126/126 [00:00<00:00, 155.82it/s]\n",
      " 26%|████████████████████▉                                                           | 29/111 [00:00<00:00, 140.78it/s]"
     ]
    },
    {
     "name": "stdout",
     "output_type": "stream",
     "text": [
      "C:/Users/34942/Desktop/VidTIMIT_2/mcem0_si768.avi\n"
     ]
    },
    {
     "name": "stderr",
     "output_type": "stream",
     "text": [
      "100%|███████████████████████████████████████████████████████████████████████████████| 111/111 [00:00<00:00, 150.14it/s]\n",
      " 15%|████████████▎                                                                   | 16/104 [00:00<00:00, 152.37it/s]"
     ]
    },
    {
     "name": "stdout",
     "output_type": "stream",
     "text": [
      "C:/Users/34942/Desktop/VidTIMIT_2/mcem0_sx138.avi\n"
     ]
    },
    {
     "name": "stderr",
     "output_type": "stream",
     "text": [
      "100%|███████████████████████████████████████████████████████████████████████████████| 104/104 [00:00<00:00, 146.67it/s]\n",
      " 23%|██████████████████▌                                                              | 16/70 [00:00<00:00, 153.84it/s]"
     ]
    },
    {
     "name": "stdout",
     "output_type": "stream",
     "text": [
      "C:/Users/34942/Desktop/VidTIMIT_2/mcem0_sx228.avi\n"
     ]
    },
    {
     "name": "stderr",
     "output_type": "stream",
     "text": [
      "100%|█████████████████████████████████████████████████████████████████████████████████| 70/70 [00:00<00:00, 142.24it/s]\n",
      " 20%|████████████████▏                                                                | 15/75 [00:00<00:00, 145.62it/s]"
     ]
    },
    {
     "name": "stdout",
     "output_type": "stream",
     "text": [
      "C:/Users/34942/Desktop/VidTIMIT_2/mcem0_sx318.avi\n"
     ]
    },
    {
     "name": "stderr",
     "output_type": "stream",
     "text": [
      "100%|█████████████████████████████████████████████████████████████████████████████████| 75/75 [00:00<00:00, 136.20it/s]\n",
      " 16%|█████████████▏                                                                   | 15/92 [00:00<00:00, 149.63it/s]"
     ]
    },
    {
     "name": "stdout",
     "output_type": "stream",
     "text": [
      "C:/Users/34942/Desktop/VidTIMIT_2/mcem0_sx408.avi\n"
     ]
    },
    {
     "name": "stderr",
     "output_type": "stream",
     "text": [
      "100%|█████████████████████████████████████████████████████████████████████████████████| 92/92 [00:00<00:00, 133.96it/s]\n",
      " 17%|█████████████▋                                                                   | 16/95 [00:00<00:00, 146.74it/s]"
     ]
    },
    {
     "name": "stdout",
     "output_type": "stream",
     "text": [
      "C:/Users/34942/Desktop/VidTIMIT_2/mcem0_sx48.avi\n"
     ]
    },
    {
     "name": "stderr",
     "output_type": "stream",
     "text": [
      "100%|█████████████████████████████████████████████████████████████████████████████████| 95/95 [00:00<00:00, 148.32it/s]\n",
      "  3%|██▎                                                                             | 15/518 [00:00<00:03, 145.62it/s]"
     ]
    },
    {
     "name": "stdout",
     "output_type": "stream",
     "text": [
      "C:/Users/34942/Desktop/VidTIMIT_2/mdab0_head.avi\n"
     ]
    },
    {
     "name": "stderr",
     "output_type": "stream",
     "text": [
      "100%|███████████████████████████████████████████████████████████████████████████████| 518/518 [00:03<00:00, 152.92it/s]\n",
      "  3%|██▏                                                                             | 14/523 [00:00<00:03, 132.44it/s]"
     ]
    },
    {
     "name": "stdout",
     "output_type": "stream",
     "text": [
      "C:/Users/34942/Desktop/VidTIMIT_2/mdab0_head2.avi\n"
     ]
    },
    {
     "name": "stderr",
     "output_type": "stream",
     "text": [
      "100%|███████████████████████████████████████████████████████████████████████████████| 523/523 [00:03<00:00, 146.02it/s]\n",
      "  4%|██▊                                                                             | 16/455 [00:00<00:02, 154.76it/s]"
     ]
    },
    {
     "name": "stdout",
     "output_type": "stream",
     "text": [
      "C:/Users/34942/Desktop/VidTIMIT_2/mdab0_head3.avi\n"
     ]
    },
    {
     "name": "stderr",
     "output_type": "stream",
     "text": [
      "100%|███████████████████████████████████████████████████████████████████████████████| 455/455 [00:03<00:00, 146.75it/s]\n",
      " 12%|█████████▋                                                                      | 18/149 [00:00<00:00, 163.42it/s]"
     ]
    },
    {
     "name": "stdout",
     "output_type": "stream",
     "text": [
      "C:/Users/34942/Desktop/VidTIMIT_2/mdab0_sa1.avi\n"
     ]
    },
    {
     "name": "stderr",
     "output_type": "stream",
     "text": [
      "100%|███████████████████████████████████████████████████████████████████████████████| 149/149 [00:00<00:00, 157.04it/s]\n",
      " 14%|███████████▌                                                                    | 16/111 [00:00<00:00, 153.88it/s]"
     ]
    },
    {
     "name": "stdout",
     "output_type": "stream",
     "text": [
      "C:/Users/34942/Desktop/VidTIMIT_2/mdab0_sa2.avi\n"
     ]
    },
    {
     "name": "stderr",
     "output_type": "stream",
     "text": [
      "100%|███████████████████████████████████████████████████████████████████████████████| 111/111 [00:00<00:00, 145.33it/s]\n",
      " 10%|████████                                                                        | 17/170 [00:00<00:00, 163.73it/s]"
     ]
    },
    {
     "name": "stdout",
     "output_type": "stream",
     "text": [
      "C:/Users/34942/Desktop/VidTIMIT_2/mdab0_si1039.avi\n"
     ]
    },
    {
     "name": "stderr",
     "output_type": "stream",
     "text": [
      "100%|███████████████████████████████████████████████████████████████████████████████| 170/170 [00:01<00:00, 146.52it/s]\n",
      " 16%|█████████████                                                                   | 17/104 [00:00<00:00, 158.71it/s]"
     ]
    },
    {
     "name": "stdout",
     "output_type": "stream",
     "text": [
      "C:/Users/34942/Desktop/VidTIMIT_2/mdab0_si1669.avi\n"
     ]
    },
    {
     "name": "stderr",
     "output_type": "stream",
     "text": [
      "100%|███████████████████████████████████████████████████████████████████████████████| 104/104 [00:00<00:00, 153.57it/s]\n",
      " 25%|████████████████████▏                                                           | 33/131 [00:00<00:00, 162.94it/s]"
     ]
    },
    {
     "name": "stdout",
     "output_type": "stream",
     "text": [
      "C:/Users/34942/Desktop/VidTIMIT_2/mdab0_si2299.avi\n"
     ]
    },
    {
     "name": "stderr",
     "output_type": "stream",
     "text": [
      "100%|███████████████████████████████████████████████████████████████████████████████| 131/131 [00:00<00:00, 151.07it/s]\n",
      " 13%|██████████▍                                                                     | 16/122 [00:00<00:00, 153.84it/s]"
     ]
    },
    {
     "name": "stdout",
     "output_type": "stream",
     "text": [
      "C:/Users/34942/Desktop/VidTIMIT_2/mdab0_sx139.avi\n"
     ]
    },
    {
     "name": "stderr",
     "output_type": "stream",
     "text": [
      "100%|███████████████████████████████████████████████████████████████████████████████| 122/122 [00:00<00:00, 140.35it/s]\n",
      " 34%|███████████████████████████▎                                                     | 26/77 [00:00<00:00, 128.95it/s]"
     ]
    },
    {
     "name": "stdout",
     "output_type": "stream",
     "text": [
      "C:/Users/34942/Desktop/VidTIMIT_2/mdab0_sx229.avi\n"
     ]
    },
    {
     "name": "stderr",
     "output_type": "stream",
     "text": [
      "100%|█████████████████████████████████████████████████████████████████████████████████| 77/77 [00:00<00:00, 142.30it/s]\n",
      " 16%|████████████▋                                                                   | 17/107 [00:00<00:00, 161.89it/s]"
     ]
    },
    {
     "name": "stdout",
     "output_type": "stream",
     "text": [
      "C:/Users/34942/Desktop/VidTIMIT_2/mdab0_sx319.avi\n"
     ]
    },
    {
     "name": "stderr",
     "output_type": "stream",
     "text": [
      "100%|███████████████████████████████████████████████████████████████████████████████| 107/107 [00:00<00:00, 150.72it/s]\n",
      " 12%|█████████▊                                                                      | 15/122 [00:00<00:00, 143.11it/s]"
     ]
    },
    {
     "name": "stdout",
     "output_type": "stream",
     "text": [
      "C:/Users/34942/Desktop/VidTIMIT_2/mdab0_sx409.avi\n"
     ]
    },
    {
     "name": "stderr",
     "output_type": "stream",
     "text": [
      "100%|███████████████████████████████████████████████████████████████████████████████| 122/122 [00:00<00:00, 131.57it/s]\n",
      " 18%|██████████████▎                                                                  | 15/85 [00:00<00:00, 148.51it/s]"
     ]
    },
    {
     "name": "stdout",
     "output_type": "stream",
     "text": [
      "C:/Users/34942/Desktop/VidTIMIT_2/mdab0_sx49.avi\n"
     ]
    },
    {
     "name": "stderr",
     "output_type": "stream",
     "text": [
      "100%|█████████████████████████████████████████████████████████████████████████████████| 85/85 [00:00<00:00, 143.42it/s]\n",
      "  3%|██▊                                                                             | 15/436 [00:00<00:03, 138.14it/s]"
     ]
    },
    {
     "name": "stdout",
     "output_type": "stream",
     "text": [
      "C:/Users/34942/Desktop/VidTIMIT_2/mdbb0_head.avi\n"
     ]
    },
    {
     "name": "stderr",
     "output_type": "stream",
     "text": [
      "100%|███████████████████████████████████████████████████████████████████████████████| 436/436 [00:03<00:00, 134.26it/s]\n",
      "  4%|██▊                                                                             | 16/456 [00:00<00:03, 144.69it/s]"
     ]
    },
    {
     "name": "stdout",
     "output_type": "stream",
     "text": [
      "C:/Users/34942/Desktop/VidTIMIT_2/mdbb0_head2.avi\n"
     ]
    },
    {
     "name": "stderr",
     "output_type": "stream",
     "text": [
      "100%|███████████████████████████████████████████████████████████████████████████████| 456/456 [00:03<00:00, 140.00it/s]\n",
      "  4%|███▍                                                                            | 16/377 [00:00<00:02, 151.30it/s]"
     ]
    },
    {
     "name": "stdout",
     "output_type": "stream",
     "text": [
      "C:/Users/34942/Desktop/VidTIMIT_2/mdbb0_head3.avi\n"
     ]
    },
    {
     "name": "stderr",
     "output_type": "stream",
     "text": [
      "100%|███████████████████████████████████████████████████████████████████████████████| 377/377 [00:02<00:00, 139.76it/s]\n",
      " 13%|██████████▍                                                                     | 13/100 [00:00<00:00, 122.38it/s]"
     ]
    },
    {
     "name": "stdout",
     "output_type": "stream",
     "text": [
      "C:/Users/34942/Desktop/VidTIMIT_2/mdbb0_sa1.avi\n"
     ]
    },
    {
     "name": "stderr",
     "output_type": "stream",
     "text": [
      "100%|███████████████████████████████████████████████████████████████████████████████| 100/100 [00:00<00:00, 137.65it/s]\n",
      " 14%|███████████▋                                                                     | 14/97 [00:00<00:00, 139.13it/s]"
     ]
    },
    {
     "name": "stdout",
     "output_type": "stream",
     "text": [
      "C:/Users/34942/Desktop/VidTIMIT_2/mdbb0_sa2.avi\n"
     ]
    },
    {
     "name": "stderr",
     "output_type": "stream",
     "text": [
      "100%|█████████████████████████████████████████████████████████████████████████████████| 97/97 [00:00<00:00, 131.54it/s]\n",
      " 13%|██████████▏                                                                     | 15/118 [00:00<00:00, 147.05it/s]"
     ]
    },
    {
     "name": "stdout",
     "output_type": "stream",
     "text": [
      "C:/Users/34942/Desktop/VidTIMIT_2/mdbb0_si1825.avi\n"
     ]
    },
    {
     "name": "stderr",
     "output_type": "stream",
     "text": [
      "100%|███████████████████████████████████████████████████████████████████████████████| 118/118 [00:00<00:00, 135.00it/s]\n",
      " 10%|████████▎                                                                       | 14/135 [00:00<00:00, 134.61it/s]"
     ]
    },
    {
     "name": "stdout",
     "output_type": "stream",
     "text": [
      "C:/Users/34942/Desktop/VidTIMIT_2/mdbb0_si565.avi\n"
     ]
    },
    {
     "name": "stderr",
     "output_type": "stream",
     "text": [
      "100%|███████████████████████████████████████████████████████████████████████████████| 135/135 [00:01<00:00, 130.96it/s]\n",
      " 14%|███████████                                                                     | 15/108 [00:00<00:00, 145.62it/s]"
     ]
    },
    {
     "name": "stdout",
     "output_type": "stream",
     "text": [
      "C:/Users/34942/Desktop/VidTIMIT_2/mdbb0_sx115.avi\n"
     ]
    },
    {
     "name": "stderr",
     "output_type": "stream",
     "text": [
      "100%|███████████████████████████████████████████████████████████████████████████████| 108/108 [00:00<00:00, 141.23it/s]\n",
      " 15%|███████████▉                                                                    | 15/101 [00:00<00:00, 144.60it/s]"
     ]
    },
    {
     "name": "stdout",
     "output_type": "stream",
     "text": [
      "C:/Users/34942/Desktop/VidTIMIT_2/mdbb0_sx1195.avi\n"
     ]
    },
    {
     "name": "stderr",
     "output_type": "stream",
     "text": [
      "100%|███████████████████████████████████████████████████████████████████████████████| 101/101 [00:00<00:00, 126.08it/s]\n",
      " 25%|████████████████████▍                                                            | 24/95 [00:00<00:00, 113.58it/s]"
     ]
    },
    {
     "name": "stdout",
     "output_type": "stream",
     "text": [
      "C:/Users/34942/Desktop/VidTIMIT_2/mdbb0_sx205.avi\n"
     ]
    },
    {
     "name": "stderr",
     "output_type": "stream",
     "text": [
      "100%|█████████████████████████████████████████████████████████████████████████████████| 95/95 [00:00<00:00, 126.63it/s]\n",
      " 18%|██████████████▋                                                                  | 13/72 [00:00<00:00, 126.71it/s]"
     ]
    },
    {
     "name": "stdout",
     "output_type": "stream",
     "text": [
      "C:/Users/34942/Desktop/VidTIMIT_2/mdbb0_sx25.avi\n"
     ]
    },
    {
     "name": "stderr",
     "output_type": "stream",
     "text": [
      "100%|█████████████████████████████████████████████████████████████████████████████████| 72/72 [00:00<00:00, 121.64it/s]\n",
      " 12%|█████████▍                                                                      | 14/118 [00:00<00:00, 130.08it/s]"
     ]
    },
    {
     "name": "stdout",
     "output_type": "stream",
     "text": [
      "C:/Users/34942/Desktop/VidTIMIT_2/mdbb0_sx295.avi\n"
     ]
    },
    {
     "name": "stderr",
     "output_type": "stream",
     "text": [
      "100%|███████████████████████████████████████████████████████████████████████████████| 118/118 [00:00<00:00, 124.20it/s]\n",
      " 20%|████████████████                                                                 | 16/81 [00:00<00:00, 159.18it/s]"
     ]
    },
    {
     "name": "stdout",
     "output_type": "stream",
     "text": [
      "C:/Users/34942/Desktop/VidTIMIT_2/mdbb0_sx385.avi\n"
     ]
    },
    {
     "name": "stderr",
     "output_type": "stream",
     "text": [
      "100%|█████████████████████████████████████████████████████████████████████████████████| 81/81 [00:00<00:00, 144.83it/s]\n",
      "  2%|█▋                                                                              | 15/699 [00:00<00:04, 141.34it/s]"
     ]
    },
    {
     "name": "stdout",
     "output_type": "stream",
     "text": [
      "C:/Users/34942/Desktop/VidTIMIT_2/mdld0_head.avi\n"
     ]
    },
    {
     "name": "stderr",
     "output_type": "stream",
     "text": [
      "100%|███████████████████████████████████████████████████████████████████████████████| 699/699 [00:04<00:00, 140.74it/s]\n",
      "  3%|██                                                                              | 17/651 [00:00<00:03, 166.90it/s]"
     ]
    },
    {
     "name": "stdout",
     "output_type": "stream",
     "text": [
      "C:/Users/34942/Desktop/VidTIMIT_2/mdld0_head2.avi\n"
     ]
    },
    {
     "name": "stderr",
     "output_type": "stream",
     "text": [
      "100%|███████████████████████████████████████████████████████████████████████████████| 651/651 [00:04<00:00, 151.22it/s]\n",
      "  3%|██                                                                              | 18/693 [00:00<00:04, 164.20it/s]"
     ]
    },
    {
     "name": "stdout",
     "output_type": "stream",
     "text": [
      "C:/Users/34942/Desktop/VidTIMIT_2/mdld0_head3.avi\n"
     ]
    },
    {
     "name": "stderr",
     "output_type": "stream",
     "text": [
      "100%|███████████████████████████████████████████████████████████████████████████████| 693/693 [00:04<00:00, 143.63it/s]\n",
      " 13%|██████████▋                                                                     | 14/105 [00:00<00:00, 137.25it/s]"
     ]
    },
    {
     "name": "stdout",
     "output_type": "stream",
     "text": [
      "C:/Users/34942/Desktop/VidTIMIT_2/mdld0_sa1.avi\n"
     ]
    },
    {
     "name": "stderr",
     "output_type": "stream",
     "text": [
      "100%|███████████████████████████████████████████████████████████████████████████████| 105/105 [00:00<00:00, 138.95it/s]\n",
      " 13%|██████████▍                                                                     | 14/107 [00:00<00:00, 133.24it/s]"
     ]
    },
    {
     "name": "stdout",
     "output_type": "stream",
     "text": [
      "C:/Users/34942/Desktop/VidTIMIT_2/mdld0_sa2.avi\n"
     ]
    },
    {
     "name": "stderr",
     "output_type": "stream",
     "text": [
      "100%|███████████████████████████████████████████████████████████████████████████████| 107/107 [00:00<00:00, 122.14it/s]\n",
      " 21%|████████████████▌                                                                | 16/78 [00:00<00:00, 158.40it/s]"
     ]
    },
    {
     "name": "stdout",
     "output_type": "stream",
     "text": [
      "C:/Users/34942/Desktop/VidTIMIT_2/mdld0_si1543.avi\n"
     ]
    },
    {
     "name": "stderr",
     "output_type": "stream",
     "text": [
      "100%|█████████████████████████████████████████████████████████████████████████████████| 78/78 [00:00<00:00, 155.25it/s]\n",
      " 10%|████████▎                                                                       | 16/153 [00:00<00:00, 158.41it/s]"
     ]
    },
    {
     "name": "stdout",
     "output_type": "stream",
     "text": [
      "C:/Users/34942/Desktop/VidTIMIT_2/mdld0_si2173.avi\n"
     ]
    },
    {
     "name": "stderr",
     "output_type": "stream",
     "text": [
      "100%|███████████████████████████████████████████████████████████████████████████████| 153/153 [00:01<00:00, 140.25it/s]\n",
      "  9%|██████▉                                                                         | 16/185 [00:00<00:01, 153.47it/s]"
     ]
    },
    {
     "name": "stdout",
     "output_type": "stream",
     "text": [
      "C:/Users/34942/Desktop/VidTIMIT_2/mdld0_si913.avi\n"
     ]
    },
    {
     "name": "stderr",
     "output_type": "stream",
     "text": [
      "100%|███████████████████████████████████████████████████████████████████████████████| 185/185 [00:01<00:00, 150.74it/s]\n",
      " 17%|█████████████▌                                                                   | 14/84 [00:00<00:00, 137.64it/s]"
     ]
    },
    {
     "name": "stdout",
     "output_type": "stream",
     "text": [
      "C:/Users/34942/Desktop/VidTIMIT_2/mdld0_sx103.avi\n"
     ]
    },
    {
     "name": "stderr",
     "output_type": "stream",
     "text": [
      "100%|█████████████████████████████████████████████████████████████████████████████████| 84/84 [00:00<00:00, 125.93it/s]\n",
      " 18%|██████████████▎                                                                  | 15/85 [00:00<00:00, 138.75it/s]"
     ]
    },
    {
     "name": "stdout",
     "output_type": "stream",
     "text": [
      "C:/Users/34942/Desktop/VidTIMIT_2/mdld0_sx13.avi\n"
     ]
    },
    {
     "name": "stderr",
     "output_type": "stream",
     "text": [
      "100%|█████████████████████████████████████████████████████████████████████████████████| 85/85 [00:00<00:00, 127.15it/s]\n",
      " 19%|███████████████▏                                                                 | 16/85 [00:00<00:00, 148.28it/s]"
     ]
    },
    {
     "name": "stdout",
     "output_type": "stream",
     "text": [
      "C:/Users/34942/Desktop/VidTIMIT_2/mdld0_sx193.avi\n"
     ]
    },
    {
     "name": "stderr",
     "output_type": "stream",
     "text": [
      "100%|█████████████████████████████████████████████████████████████████████████████████| 85/85 [00:00<00:00, 141.98it/s]\n",
      " 14%|███████████▌                                                                    | 15/104 [00:00<00:00, 142.21it/s]"
     ]
    },
    {
     "name": "stdout",
     "output_type": "stream",
     "text": [
      "C:/Users/34942/Desktop/VidTIMIT_2/mdld0_sx283.avi\n"
     ]
    },
    {
     "name": "stderr",
     "output_type": "stream",
     "text": [
      "100%|███████████████████████████████████████████████████████████████████████████████| 104/104 [00:00<00:00, 130.22it/s]\n",
      " 18%|██████████████▏                                                                  | 16/91 [00:00<00:00, 150.36it/s]"
     ]
    },
    {
     "name": "stdout",
     "output_type": "stream",
     "text": [
      "C:/Users/34942/Desktop/VidTIMIT_2/mdld0_sx373.avi\n"
     ]
    },
    {
     "name": "stderr",
     "output_type": "stream",
     "text": [
      "100%|█████████████████████████████████████████████████████████████████████████████████| 91/91 [00:00<00:00, 155.07it/s]\n",
      "  3%|██▊                                                                             | 17/490 [00:00<00:03, 154.57it/s]"
     ]
    },
    {
     "name": "stdout",
     "output_type": "stream",
     "text": [
      "C:/Users/34942/Desktop/VidTIMIT_2/mgwt0_head.avi\n"
     ]
    },
    {
     "name": "stderr",
     "output_type": "stream",
     "text": [
      "100%|███████████████████████████████████████████████████████████████████████████████| 490/490 [00:03<00:00, 146.17it/s]\n",
      "  4%|███▌                                                                            | 16/363 [00:00<00:02, 155.85it/s]"
     ]
    },
    {
     "name": "stdout",
     "output_type": "stream",
     "text": [
      "C:/Users/34942/Desktop/VidTIMIT_2/mgwt0_head2.avi\n"
     ]
    },
    {
     "name": "stderr",
     "output_type": "stream",
     "text": [
      "100%|███████████████████████████████████████████████████████████████████████████████| 363/363 [00:02<00:00, 149.20it/s]\n",
      "  4%|███▎                                                                            | 16/392 [00:00<00:02, 156.85it/s]"
     ]
    },
    {
     "name": "stdout",
     "output_type": "stream",
     "text": [
      "C:/Users/34942/Desktop/VidTIMIT_2/mgwt0_head3.avi\n"
     ]
    },
    {
     "name": "stderr",
     "output_type": "stream",
     "text": [
      "100%|███████████████████████████████████████████████████████████████████████████████| 392/392 [00:02<00:00, 149.09it/s]\n",
      " 12%|█████████▌                                                                      | 15/125 [00:00<00:00, 146.16it/s]"
     ]
    },
    {
     "name": "stdout",
     "output_type": "stream",
     "text": [
      "C:/Users/34942/Desktop/VidTIMIT_2/mgwt0_sa1.avi\n"
     ]
    },
    {
     "name": "stderr",
     "output_type": "stream",
     "text": [
      "100%|███████████████████████████████████████████████████████████████████████████████| 125/125 [00:00<00:00, 150.96it/s]\n",
      " 19%|███████████████▍                                                                 | 16/84 [00:00<00:00, 151.04it/s]"
     ]
    },
    {
     "name": "stdout",
     "output_type": "stream",
     "text": [
      "C:/Users/34942/Desktop/VidTIMIT_2/mgwt0_sa2.avi\n"
     ]
    },
    {
     "name": "stderr",
     "output_type": "stream",
     "text": [
      "100%|█████████████████████████████████████████████████████████████████████████████████| 84/84 [00:00<00:00, 120.30it/s]\n",
      " 11%|████████▊                                                                       | 12/109 [00:00<00:00, 109.65it/s]"
     ]
    },
    {
     "name": "stdout",
     "output_type": "stream",
     "text": [
      "C:/Users/34942/Desktop/VidTIMIT_2/mgwt0_si1539.avi\n"
     ]
    },
    {
     "name": "stderr",
     "output_type": "stream",
     "text": [
      "100%|███████████████████████████████████████████████████████████████████████████████| 109/109 [00:00<00:00, 135.85it/s]\n",
      " 12%|█████████▍                                                                      | 16/136 [00:00<00:00, 151.75it/s]"
     ]
    },
    {
     "name": "stdout",
     "output_type": "stream",
     "text": [
      "C:/Users/34942/Desktop/VidTIMIT_2/mgwt0_si2169.avi\n"
     ]
    },
    {
     "name": "stderr",
     "output_type": "stream",
     "text": [
      "100%|███████████████████████████████████████████████████████████████████████████████| 136/136 [00:00<00:00, 150.17it/s]\n",
      " 11%|████████▊                                                                       | 15/137 [00:00<00:00, 136.62it/s]"
     ]
    },
    {
     "name": "stdout",
     "output_type": "stream",
     "text": [
      "C:/Users/34942/Desktop/VidTIMIT_2/mgwt0_si909.avi\n"
     ]
    },
    {
     "name": "stderr",
     "output_type": "stream",
     "text": [
      "100%|███████████████████████████████████████████████████████████████████████████████| 137/137 [00:01<00:00, 129.95it/s]\n",
      " 15%|███████████▉                                                                    | 15/101 [00:00<00:00, 148.03it/s]"
     ]
    },
    {
     "name": "stdout",
     "output_type": "stream",
     "text": [
      "C:/Users/34942/Desktop/VidTIMIT_2/mgwt0_sx189.avi\n"
     ]
    },
    {
     "name": "stderr",
     "output_type": "stream",
     "text": [
      "100%|███████████████████████████████████████████████████████████████████████████████| 101/101 [00:00<00:00, 131.58it/s]\n",
      " 15%|████████████                                                                    | 18/119 [00:00<00:00, 164.28it/s]"
     ]
    },
    {
     "name": "stdout",
     "output_type": "stream",
     "text": [
      "C:/Users/34942/Desktop/VidTIMIT_2/mgwt0_sx279.avi\n"
     ]
    },
    {
     "name": "stderr",
     "output_type": "stream",
     "text": [
      "100%|███████████████████████████████████████████████████████████████████████████████| 119/119 [00:00<00:00, 153.50it/s]\n",
      " 19%|███████████████▌                                                                 | 16/83 [00:00<00:00, 152.37it/s]"
     ]
    },
    {
     "name": "stdout",
     "output_type": "stream",
     "text": [
      "C:/Users/34942/Desktop/VidTIMIT_2/mgwt0_sx369.avi\n"
     ]
    },
    {
     "name": "stderr",
     "output_type": "stream",
     "text": [
      "100%|█████████████████████████████████████████████████████████████████████████████████| 83/83 [00:00<00:00, 138.41it/s]\n",
      " 14%|███████████▏                                                                     | 11/80 [00:00<00:00, 107.48it/s]"
     ]
    },
    {
     "name": "stdout",
     "output_type": "stream",
     "text": [
      "C:/Users/34942/Desktop/VidTIMIT_2/mgwt0_sx9.avi\n"
     ]
    },
    {
     "name": "stderr",
     "output_type": "stream",
     "text": [
      "100%|█████████████████████████████████████████████████████████████████████████████████| 80/80 [00:00<00:00, 126.40it/s]\n",
      " 13%|██████████▌                                                                     | 15/113 [00:00<00:00, 149.99it/s]"
     ]
    },
    {
     "name": "stdout",
     "output_type": "stream",
     "text": [
      "C:/Users/34942/Desktop/VidTIMIT_2/mgwt0_sx99.avi\n"
     ]
    },
    {
     "name": "stderr",
     "output_type": "stream",
     "text": [
      "100%|███████████████████████████████████████████████████████████████████████████████| 113/113 [00:00<00:00, 144.39it/s]\n",
      "  3%|██▌                                                                             | 13/398 [00:00<00:03, 125.38it/s]"
     ]
    },
    {
     "name": "stdout",
     "output_type": "stream",
     "text": [
      "C:/Users/34942/Desktop/VidTIMIT_2/mjar0_head.avi\n"
     ]
    },
    {
     "name": "stderr",
     "output_type": "stream",
     "text": [
      "100%|███████████████████████████████████████████████████████████████████████████████| 398/398 [00:02<00:00, 143.50it/s]\n",
      "  8%|██████▌                                                                         | 33/404 [00:00<00:02, 162.44it/s]"
     ]
    },
    {
     "name": "stdout",
     "output_type": "stream",
     "text": [
      "C:/Users/34942/Desktop/VidTIMIT_2/mjar0_head2.avi\n"
     ]
    },
    {
     "name": "stderr",
     "output_type": "stream",
     "text": [
      "100%|███████████████████████████████████████████████████████████████████████████████| 404/404 [00:02<00:00, 153.82it/s]\n",
      "  4%|██▊                                                                             | 16/448 [00:00<00:02, 156.76it/s]"
     ]
    },
    {
     "name": "stdout",
     "output_type": "stream",
     "text": [
      "C:/Users/34942/Desktop/VidTIMIT_2/mjar0_head3.avi\n"
     ]
    },
    {
     "name": "stderr",
     "output_type": "stream",
     "text": [
      "100%|███████████████████████████████████████████████████████████████████████████████| 448/448 [00:03<00:00, 148.99it/s]\n",
      "  9%|███████▍                                                                        | 14/150 [00:00<00:01, 134.61it/s]"
     ]
    },
    {
     "name": "stdout",
     "output_type": "stream",
     "text": [
      "C:/Users/34942/Desktop/VidTIMIT_2/mjar0_sa1.avi\n"
     ]
    },
    {
     "name": "stderr",
     "output_type": "stream",
     "text": [
      "100%|███████████████████████████████████████████████████████████████████████████████| 150/150 [00:01<00:00, 147.49it/s]\n",
      " 11%|████████▍                                                                       | 12/113 [00:00<00:00, 111.10it/s]"
     ]
    },
    {
     "name": "stdout",
     "output_type": "stream",
     "text": [
      "C:/Users/34942/Desktop/VidTIMIT_2/mjar0_sa2.avi\n"
     ]
    },
    {
     "name": "stderr",
     "output_type": "stream",
     "text": [
      "100%|███████████████████████████████████████████████████████████████████████████████| 113/113 [00:00<00:00, 126.90it/s]\n",
      " 21%|█████████████████▎                                                               | 16/75 [00:00<00:00, 151.64it/s]"
     ]
    },
    {
     "name": "stdout",
     "output_type": "stream",
     "text": [
      "C:/Users/34942/Desktop/VidTIMIT_2/mjar0_si1988.avi\n"
     ]
    },
    {
     "name": "stderr",
     "output_type": "stream",
     "text": [
      "100%|█████████████████████████████████████████████████████████████████████████████████| 75/75 [00:00<00:00, 130.57it/s]\n",
      " 20%|███████████████▉                                                                 | 15/76 [00:00<00:00, 147.34it/s]"
     ]
    },
    {
     "name": "stdout",
     "output_type": "stream",
     "text": [
      "C:/Users/34942/Desktop/VidTIMIT_2/mjar0_si2247.avi\n"
     ]
    },
    {
     "name": "stderr",
     "output_type": "stream",
     "text": [
      "100%|█████████████████████████████████████████████████████████████████████████████████| 76/76 [00:00<00:00, 139.02it/s]\n",
      " 11%|████████▉                                                                       | 16/144 [00:00<00:00, 151.09it/s]"
     ]
    },
    {
     "name": "stdout",
     "output_type": "stream",
     "text": [
      "C:/Users/34942/Desktop/VidTIMIT_2/mjar0_si728.avi\n"
     ]
    },
    {
     "name": "stderr",
     "output_type": "stream",
     "text": [
      "100%|███████████████████████████████████████████████████████████████████████████████| 144/144 [00:01<00:00, 139.61it/s]\n",
      " 14%|███████████▍                                                                    | 15/105 [00:00<00:00, 146.61it/s]"
     ]
    },
    {
     "name": "stdout",
     "output_type": "stream",
     "text": [
      "C:/Users/34942/Desktop/VidTIMIT_2/mjar0_sx188.avi\n"
     ]
    },
    {
     "name": "stderr",
     "output_type": "stream",
     "text": [
      "100%|███████████████████████████████████████████████████████████████████████████████| 105/105 [00:00<00:00, 137.47it/s]\n",
      " 11%|█████████                                                                       | 17/151 [00:00<00:00, 156.24it/s]"
     ]
    },
    {
     "name": "stdout",
     "output_type": "stream",
     "text": [
      "C:/Users/34942/Desktop/VidTIMIT_2/mjar0_sx278.avi\n"
     ]
    },
    {
     "name": "stderr",
     "output_type": "stream",
     "text": [
      "100%|███████████████████████████████████████████████████████████████████████████████| 151/151 [00:00<00:00, 155.28it/s]\n",
      " 12%|█████████▌                                                                      | 16/133 [00:00<00:00, 153.61it/s]"
     ]
    },
    {
     "name": "stdout",
     "output_type": "stream",
     "text": [
      "C:/Users/34942/Desktop/VidTIMIT_2/mjar0_sx368.avi\n"
     ]
    },
    {
     "name": "stderr",
     "output_type": "stream",
     "text": [
      "100%|███████████████████████████████████████████████████████████████████████████████| 133/133 [00:01<00:00, 128.11it/s]\n",
      " 13%|██████████▋                                                                     | 15/112 [00:00<00:00, 148.67it/s]"
     ]
    },
    {
     "name": "stdout",
     "output_type": "stream",
     "text": [
      "C:/Users/34942/Desktop/VidTIMIT_2/mjar0_sx8.avi\n"
     ]
    },
    {
     "name": "stderr",
     "output_type": "stream",
     "text": [
      "100%|███████████████████████████████████████████████████████████████████████████████| 112/112 [00:00<00:00, 138.34it/s]\n",
      " 21%|████████████████▊                                                                | 18/87 [00:00<00:00, 158.78it/s]"
     ]
    },
    {
     "name": "stdout",
     "output_type": "stream",
     "text": [
      "C:/Users/34942/Desktop/VidTIMIT_2/mjar0_sx98.avi\n"
     ]
    },
    {
     "name": "stderr",
     "output_type": "stream",
     "text": [
      "100%|█████████████████████████████████████████████████████████████████████████████████| 87/87 [00:00<00:00, 146.56it/s]\n",
      " 10%|███████▌                                                                        | 32/336 [00:00<00:01, 154.28it/s]"
     ]
    },
    {
     "name": "stdout",
     "output_type": "stream",
     "text": [
      "C:/Users/34942/Desktop/VidTIMIT_2/mjsw0_head.avi\n"
     ]
    },
    {
     "name": "stderr",
     "output_type": "stream",
     "text": [
      "100%|███████████████████████████████████████████████████████████████████████████████| 336/336 [00:02<00:00, 139.84it/s]\n",
      "  8%|██████▋                                                                         | 28/333 [00:00<00:02, 135.60it/s]"
     ]
    },
    {
     "name": "stdout",
     "output_type": "stream",
     "text": [
      "C:/Users/34942/Desktop/VidTIMIT_2/mjsw0_head2.avi\n"
     ]
    },
    {
     "name": "stderr",
     "output_type": "stream",
     "text": [
      "100%|███████████████████████████████████████████████████████████████████████████████| 333/333 [00:02<00:00, 145.91it/s]\n",
      "  5%|███▊                                                                            | 16/333 [00:00<00:02, 152.40it/s]"
     ]
    },
    {
     "name": "stdout",
     "output_type": "stream",
     "text": [
      "C:/Users/34942/Desktop/VidTIMIT_2/mjsw0_head3.avi\n"
     ]
    },
    {
     "name": "stderr",
     "output_type": "stream",
     "text": [
      "100%|███████████████████████████████████████████████████████████████████████████████| 333/333 [00:02<00:00, 145.62it/s]\n",
      " 17%|█████████████▊                                                                   | 16/94 [00:00<00:00, 151.99it/s]"
     ]
    },
    {
     "name": "stdout",
     "output_type": "stream",
     "text": [
      "C:/Users/34942/Desktop/VidTIMIT_2/mjsw0_sa1.avi\n"
     ]
    },
    {
     "name": "stderr",
     "output_type": "stream",
     "text": [
      "100%|█████████████████████████████████████████████████████████████████████████████████| 94/94 [00:00<00:00, 153.64it/s]\n",
      " 19%|███████████████▍                                                                 | 17/89 [00:00<00:00, 164.67it/s]"
     ]
    },
    {
     "name": "stdout",
     "output_type": "stream",
     "text": [
      "C:/Users/34942/Desktop/VidTIMIT_2/mjsw0_sa2.avi\n"
     ]
    },
    {
     "name": "stderr",
     "output_type": "stream",
     "text": [
      "100%|█████████████████████████████████████████████████████████████████████████████████| 89/89 [00:00<00:00, 143.13it/s]\n",
      " 10%|████████                                                                        | 14/138 [00:00<00:00, 133.33it/s]"
     ]
    },
    {
     "name": "stdout",
     "output_type": "stream",
     "text": [
      "C:/Users/34942/Desktop/VidTIMIT_2/mjsw0_si1010.avi\n"
     ]
    },
    {
     "name": "stderr",
     "output_type": "stream",
     "text": [
      "100%|███████████████████████████████████████████████████████████████████████████████| 138/138 [00:01<00:00, 125.03it/s]\n",
      " 31%|█████████████████████████▌                                                       | 17/54 [00:00<00:00, 161.23it/s]"
     ]
    },
    {
     "name": "stdout",
     "output_type": "stream",
     "text": [
      "C:/Users/34942/Desktop/VidTIMIT_2/mjsw0_si1640.avi\n"
     ]
    },
    {
     "name": "stderr",
     "output_type": "stream",
     "text": [
      "100%|█████████████████████████████████████████████████████████████████████████████████| 54/54 [00:00<00:00, 154.86it/s]\n",
      " 25%|████████████████████▎                                                            | 15/60 [00:00<00:00, 142.84it/s]"
     ]
    },
    {
     "name": "stdout",
     "output_type": "stream",
     "text": [
      "C:/Users/34942/Desktop/VidTIMIT_2/mjsw0_si2270.avi\n"
     ]
    },
    {
     "name": "stderr",
     "output_type": "stream",
     "text": [
      "100%|█████████████████████████████████████████████████████████████████████████████████| 60/60 [00:00<00:00, 149.19it/s]\n",
      " 19%|███████████████▌                                                                 | 16/83 [00:00<00:00, 158.41it/s]"
     ]
    },
    {
     "name": "stdout",
     "output_type": "stream",
     "text": [
      "C:/Users/34942/Desktop/VidTIMIT_2/mjsw0_sx110.avi\n"
     ]
    },
    {
     "name": "stderr",
     "output_type": "stream",
     "text": [
      "100%|█████████████████████████████████████████████████████████████████████████████████| 83/83 [00:00<00:00, 141.14it/s]\n",
      " 12%|█████████▌                                                                       | 11/93 [00:00<00:00, 108.90it/s]"
     ]
    },
    {
     "name": "stdout",
     "output_type": "stream",
     "text": [
      "C:/Users/34942/Desktop/VidTIMIT_2/mjsw0_sx20.avi\n"
     ]
    },
    {
     "name": "stderr",
     "output_type": "stream",
     "text": [
      "100%|█████████████████████████████████████████████████████████████████████████████████| 93/93 [00:00<00:00, 135.50it/s]\n",
      " 18%|██████████████▍                                                                  | 16/90 [00:00<00:00, 153.84it/s]"
     ]
    },
    {
     "name": "stdout",
     "output_type": "stream",
     "text": [
      "C:/Users/34942/Desktop/VidTIMIT_2/mjsw0_sx200.avi\n"
     ]
    },
    {
     "name": "stderr",
     "output_type": "stream",
     "text": [
      "100%|█████████████████████████████████████████████████████████████████████████████████| 90/90 [00:00<00:00, 151.21it/s]\n",
      " 15%|███████████▊                                                                    | 16/108 [00:00<00:00, 158.40it/s]"
     ]
    },
    {
     "name": "stdout",
     "output_type": "stream",
     "text": [
      "C:/Users/34942/Desktop/VidTIMIT_2/mjsw0_sx290.avi\n"
     ]
    },
    {
     "name": "stderr",
     "output_type": "stream",
     "text": [
      "100%|███████████████████████████████████████████████████████████████████████████████| 108/108 [00:00<00:00, 155.37it/s]\n",
      " 21%|█████████████████▎                                                               | 16/75 [00:00<00:00, 152.37it/s]"
     ]
    },
    {
     "name": "stdout",
     "output_type": "stream",
     "text": [
      "C:/Users/34942/Desktop/VidTIMIT_2/mjsw0_sx380.avi\n"
     ]
    },
    {
     "name": "stderr",
     "output_type": "stream",
     "text": [
      "100%|█████████████████████████████████████████████████████████████████████████████████| 75/75 [00:00<00:00, 137.03it/s]\n",
      "  3%|██▍                                                                             | 13/421 [00:00<00:03, 126.70it/s]"
     ]
    },
    {
     "name": "stdout",
     "output_type": "stream",
     "text": [
      "C:/Users/34942/Desktop/VidTIMIT_2/mmdb1_head.avi\n"
     ]
    },
    {
     "name": "stderr",
     "output_type": "stream",
     "text": [
      "100%|███████████████████████████████████████████████████████████████████████████████| 421/421 [00:02<00:00, 151.96it/s]\n",
      "  4%|███                                                                             | 14/371 [00:00<00:02, 134.33it/s]"
     ]
    },
    {
     "name": "stdout",
     "output_type": "stream",
     "text": [
      "C:/Users/34942/Desktop/VidTIMIT_2/mmdb1_head2.avi\n"
     ]
    },
    {
     "name": "stderr",
     "output_type": "stream",
     "text": [
      "100%|███████████████████████████████████████████████████████████████████████████████| 371/371 [00:02<00:00, 136.72it/s]\n",
      "  4%|██▉                                                                             | 14/386 [00:00<00:02, 137.24it/s]"
     ]
    },
    {
     "name": "stdout",
     "output_type": "stream",
     "text": [
      "C:/Users/34942/Desktop/VidTIMIT_2/mmdb1_head3.avi\n"
     ]
    },
    {
     "name": "stderr",
     "output_type": "stream",
     "text": [
      "100%|███████████████████████████████████████████████████████████████████████████████| 386/386 [00:02<00:00, 138.77it/s]\n",
      " 14%|███████████                                                                     | 17/123 [00:00<00:00, 163.45it/s]"
     ]
    },
    {
     "name": "stdout",
     "output_type": "stream",
     "text": [
      "C:/Users/34942/Desktop/VidTIMIT_2/mmdb1_sa1.avi\n"
     ]
    },
    {
     "name": "stderr",
     "output_type": "stream",
     "text": [
      "100%|███████████████████████████████████████████████████████████████████████████████| 123/123 [00:00<00:00, 154.25it/s]\n",
      " 18%|██████████████▍                                                                  | 17/95 [00:00<00:00, 166.77it/s]"
     ]
    },
    {
     "name": "stdout",
     "output_type": "stream",
     "text": [
      "C:/Users/34942/Desktop/VidTIMIT_2/mmdb1_sa2.avi\n"
     ]
    },
    {
     "name": "stderr",
     "output_type": "stream",
     "text": [
      "100%|█████████████████████████████████████████████████████████████████████████████████| 95/95 [00:00<00:00, 141.31it/s]\n",
      " 12%|█████████▌                                                                      | 15/125 [00:00<00:00, 135.97it/s]"
     ]
    },
    {
     "name": "stdout",
     "output_type": "stream",
     "text": [
      "C:/Users/34942/Desktop/VidTIMIT_2/mmdb1_si2255.avi\n"
     ]
    },
    {
     "name": "stderr",
     "output_type": "stream",
     "text": [
      "100%|███████████████████████████████████████████████████████████████████████████████| 125/125 [00:00<00:00, 140.58it/s]\n",
      "  8%|██████▌                                                                         | 14/171 [00:00<00:01, 137.59it/s]"
     ]
    },
    {
     "name": "stdout",
     "output_type": "stream",
     "text": [
      "C:/Users/34942/Desktop/VidTIMIT_2/mmdb1_si995.avi\n"
     ]
    },
    {
     "name": "stderr",
     "output_type": "stream",
     "text": [
      "100%|███████████████████████████████████████████████████████████████████████████████| 171/171 [00:01<00:00, 143.67it/s]\n",
      " 23%|██████████████████▉                                                              | 15/64 [00:00<00:00, 148.06it/s]"
     ]
    },
    {
     "name": "stdout",
     "output_type": "stream",
     "text": [
      "C:/Users/34942/Desktop/VidTIMIT_2/mmdb1_sx1625.avi\n"
     ]
    },
    {
     "name": "stderr",
     "output_type": "stream",
     "text": [
      "100%|█████████████████████████████████████████████████████████████████████████████████| 64/64 [00:00<00:00, 146.50it/s]\n",
      " 14%|███████████▋                                                                     | 14/97 [00:00<00:00, 133.41it/s]"
     ]
    },
    {
     "name": "stdout",
     "output_type": "stream",
     "text": [
      "C:/Users/34942/Desktop/VidTIMIT_2/mmdb1_sx185.avi\n"
     ]
    },
    {
     "name": "stderr",
     "output_type": "stream",
     "text": [
      "100%|█████████████████████████████████████████████████████████████████████████████████| 97/97 [00:00<00:00, 133.88it/s]\n",
      " 16%|█████████████▏                                                                   | 14/86 [00:00<00:00, 131.95it/s]"
     ]
    },
    {
     "name": "stdout",
     "output_type": "stream",
     "text": [
      "C:/Users/34942/Desktop/VidTIMIT_2/mmdb1_sx275.avi\n"
     ]
    },
    {
     "name": "stderr",
     "output_type": "stream",
     "text": [
      "100%|█████████████████████████████████████████████████████████████████████████████████| 86/86 [00:00<00:00, 123.18it/s]\n",
      "  9%|███████▌                                                                        | 12/128 [00:00<00:01, 115.03it/s]"
     ]
    },
    {
     "name": "stdout",
     "output_type": "stream",
     "text": [
      "C:/Users/34942/Desktop/VidTIMIT_2/mmdb1_sx365.avi\n"
     ]
    },
    {
     "name": "stderr",
     "output_type": "stream",
     "text": [
      "100%|███████████████████████████████████████████████████████████████████████████████| 128/128 [00:00<00:00, 134.46it/s]\n",
      " 35%|████████████████████████████▍                                                    | 26/74 [00:00<00:00, 125.02it/s]"
     ]
    },
    {
     "name": "stdout",
     "output_type": "stream",
     "text": [
      "C:/Users/34942/Desktop/VidTIMIT_2/mmdb1_sx5.avi\n"
     ]
    },
    {
     "name": "stderr",
     "output_type": "stream",
     "text": [
      "100%|█████████████████████████████████████████████████████████████████████████████████| 74/74 [00:00<00:00, 134.21it/s]\n",
      " 17%|██████████████                                                                   | 16/92 [00:00<00:00, 146.44it/s]"
     ]
    },
    {
     "name": "stdout",
     "output_type": "stream",
     "text": [
      "C:/Users/34942/Desktop/VidTIMIT_2/mmdb1_sx95.avi\n"
     ]
    },
    {
     "name": "stderr",
     "output_type": "stream",
     "text": [
      "100%|█████████████████████████████████████████████████████████████████████████████████| 92/92 [00:00<00:00, 125.44it/s]\n",
      "  2%|█▎                                                                              | 13/757 [00:00<00:06, 119.16it/s]"
     ]
    },
    {
     "name": "stdout",
     "output_type": "stream",
     "text": [
      "C:/Users/34942/Desktop/VidTIMIT_2/mmdm2_head.avi\n"
     ]
    },
    {
     "name": "stderr",
     "output_type": "stream",
     "text": [
      "100%|███████████████████████████████████████████████████████████████████████████████| 757/757 [00:05<00:00, 142.93it/s]\n",
      "  2%|█▉                                                                              | 15/623 [00:00<00:04, 148.86it/s]"
     ]
    },
    {
     "name": "stdout",
     "output_type": "stream",
     "text": [
      "C:/Users/34942/Desktop/VidTIMIT_2/mmdm2_head2.avi\n"
     ]
    },
    {
     "name": "stderr",
     "output_type": "stream",
     "text": [
      "100%|███████████████████████████████████████████████████████████████████████████████| 623/623 [00:04<00:00, 148.45it/s]\n",
      "  3%|██▎                                                                             | 16/543 [00:00<00:03, 154.95it/s]"
     ]
    },
    {
     "name": "stdout",
     "output_type": "stream",
     "text": [
      "C:/Users/34942/Desktop/VidTIMIT_2/mmdm2_head3.avi\n"
     ]
    },
    {
     "name": "stderr",
     "output_type": "stream",
     "text": [
      "100%|███████████████████████████████████████████████████████████████████████████████| 543/543 [00:03<00:00, 146.65it/s]\n",
      " 14%|███████████                                                                     | 17/123 [00:00<00:00, 162.93it/s]"
     ]
    },
    {
     "name": "stdout",
     "output_type": "stream",
     "text": [
      "C:/Users/34942/Desktop/VidTIMIT_2/mmdm2_sa1.avi\n"
     ]
    },
    {
     "name": "stderr",
     "output_type": "stream",
     "text": [
      "100%|███████████████████████████████████████████████████████████████████████████████| 123/123 [00:00<00:00, 153.24it/s]\n",
      " 20%|████████████████▏                                                                | 17/85 [00:00<00:00, 159.35it/s]"
     ]
    },
    {
     "name": "stdout",
     "output_type": "stream",
     "text": [
      "C:/Users/34942/Desktop/VidTIMIT_2/mmdm2_sa2.avi\n"
     ]
    },
    {
     "name": "stderr",
     "output_type": "stream",
     "text": [
      "100%|█████████████████████████████████████████████████████████████████████████████████| 85/85 [00:00<00:00, 146.28it/s]\n",
      " 10%|████████                                                                        | 16/160 [00:00<00:00, 149.65it/s]"
     ]
    },
    {
     "name": "stdout",
     "output_type": "stream",
     "text": [
      "C:/Users/34942/Desktop/VidTIMIT_2/mmdm2_si1425.avi\n"
     ]
    },
    {
     "name": "stderr",
     "output_type": "stream",
     "text": [
      "100%|███████████████████████████████████████████████████████████████████████████████| 160/160 [00:01<00:00, 141.47it/s]\n",
      " 23%|██████████████████▉                                                              | 14/60 [00:00<00:00, 133.22it/s]"
     ]
    },
    {
     "name": "stdout",
     "output_type": "stream",
     "text": [
      "C:/Users/34942/Desktop/VidTIMIT_2/mmdm2_si1555.avi\n"
     ]
    },
    {
     "name": "stderr",
     "output_type": "stream",
     "text": [
      "100%|█████████████████████████████████████████████████████████████████████████████████| 60/60 [00:00<00:00, 148.60it/s]\n",
      " 22%|██████████████████▏                                                              | 15/67 [00:00<00:00, 148.43it/s]"
     ]
    },
    {
     "name": "stdout",
     "output_type": "stream",
     "text": [
      "C:/Users/34942/Desktop/VidTIMIT_2/mmdm2_si2028.avi\n"
     ]
    },
    {
     "name": "stderr",
     "output_type": "stream",
     "text": [
      "100%|█████████████████████████████████████████████████████████████████████████████████| 67/67 [00:00<00:00, 150.01it/s]\n",
      " 15%|███████████▋                                                                    | 17/116 [00:00<00:00, 163.69it/s]"
     ]
    },
    {
     "name": "stdout",
     "output_type": "stream",
     "text": [
      "C:/Users/34942/Desktop/VidTIMIT_2/mmdm2_sx102.avi\n"
     ]
    },
    {
     "name": "stderr",
     "output_type": "stream",
     "text": [
      "100%|███████████████████████████████████████████████████████████████████████████████| 116/116 [00:00<00:00, 145.51it/s]\n",
      " 22%|█████████████████▉                                                               | 17/77 [00:00<00:00, 164.02it/s]"
     ]
    },
    {
     "name": "stdout",
     "output_type": "stream",
     "text": [
      "C:/Users/34942/Desktop/VidTIMIT_2/mmdm2_sx12.avi\n"
     ]
    },
    {
     "name": "stderr",
     "output_type": "stream",
     "text": [
      "100%|█████████████████████████████████████████████████████████████████████████████████| 77/77 [00:00<00:00, 149.80it/s]\n",
      " 21%|████████████████▌                                                                | 16/78 [00:00<00:00, 159.44it/s]"
     ]
    },
    {
     "name": "stdout",
     "output_type": "stream",
     "text": [
      "C:/Users/34942/Desktop/VidTIMIT_2/mmdm2_sx192.avi\n"
     ]
    },
    {
     "name": "stderr",
     "output_type": "stream",
     "text": [
      "100%|█████████████████████████████████████████████████████████████████████████████████| 78/78 [00:00<00:00, 154.23it/s]\n",
      " 16%|█████████████                                                                    | 16/99 [00:00<00:00, 146.08it/s]"
     ]
    },
    {
     "name": "stdout",
     "output_type": "stream",
     "text": [
      "C:/Users/34942/Desktop/VidTIMIT_2/mmdm2_sx282.avi\n"
     ]
    },
    {
     "name": "stderr",
     "output_type": "stream",
     "text": [
      "100%|█████████████████████████████████████████████████████████████████████████████████| 99/99 [00:00<00:00, 145.73it/s]\n",
      " 14%|███████████▎                                                                    | 15/106 [00:00<00:00, 144.94it/s]"
     ]
    },
    {
     "name": "stdout",
     "output_type": "stream",
     "text": [
      "C:/Users/34942/Desktop/VidTIMIT_2/mmdm2_sx372.avi\n"
     ]
    },
    {
     "name": "stderr",
     "output_type": "stream",
     "text": [
      "100%|███████████████████████████████████████████████████████████████████████████████| 106/106 [00:00<00:00, 142.43it/s]\n",
      "  4%|███▎                                                                            | 17/416 [00:00<00:02, 161.89it/s]"
     ]
    },
    {
     "name": "stdout",
     "output_type": "stream",
     "text": [
      "C:/Users/34942/Desktop/VidTIMIT_2/mpdf0_head.avi\n"
     ]
    },
    {
     "name": "stderr",
     "output_type": "stream",
     "text": [
      "100%|███████████████████████████████████████████████████████████████████████████████| 416/416 [00:02<00:00, 152.23it/s]\n",
      "  4%|██▊                                                                             | 16/452 [00:00<00:02, 157.61it/s]"
     ]
    },
    {
     "name": "stdout",
     "output_type": "stream",
     "text": [
      "C:/Users/34942/Desktop/VidTIMIT_2/mpdf0_head2.avi\n"
     ]
    },
    {
     "name": "stderr",
     "output_type": "stream",
     "text": [
      "100%|███████████████████████████████████████████████████████████████████████████████| 452/452 [00:02<00:00, 151.50it/s]\n",
      "  4%|███▎                                                                            | 18/427 [00:00<00:02, 163.98it/s]"
     ]
    },
    {
     "name": "stdout",
     "output_type": "stream",
     "text": [
      "C:/Users/34942/Desktop/VidTIMIT_2/mpdf0_head3.avi\n"
     ]
    },
    {
     "name": "stderr",
     "output_type": "stream",
     "text": [
      "100%|███████████████████████████████████████████████████████████████████████████████| 427/427 [00:02<00:00, 150.63it/s]\n",
      " 14%|██████████▉                                                                     | 17/125 [00:00<00:00, 156.39it/s]"
     ]
    },
    {
     "name": "stdout",
     "output_type": "stream",
     "text": [
      "C:/Users/34942/Desktop/VidTIMIT_2/mpdf0_sa1.avi\n"
     ]
    },
    {
     "name": "stderr",
     "output_type": "stream",
     "text": [
      "100%|███████████████████████████████████████████████████████████████████████████████| 125/125 [00:00<00:00, 153.68it/s]\n",
      " 17%|█████████████▌                                                                   | 16/96 [00:00<00:00, 156.85it/s]"
     ]
    },
    {
     "name": "stdout",
     "output_type": "stream",
     "text": [
      "C:/Users/34942/Desktop/VidTIMIT_2/mpdf0_sa2.avi\n"
     ]
    },
    {
     "name": "stderr",
     "output_type": "stream",
     "text": [
      "100%|█████████████████████████████████████████████████████████████████████████████████| 96/96 [00:00<00:00, 140.21it/s]\n",
      " 14%|███████████▋                                                                     | 14/97 [00:00<00:00, 135.10it/s]"
     ]
    },
    {
     "name": "stdout",
     "output_type": "stream",
     "text": [
      "C:/Users/34942/Desktop/VidTIMIT_2/mpdf0_si1542.avi\n"
     ]
    },
    {
     "name": "stderr",
     "output_type": "stream",
     "text": [
      "100%|█████████████████████████████████████████████████████████████████████████████████| 97/97 [00:00<00:00, 141.42it/s]\n",
      " 13%|██████████▍                                                                     | 13/100 [00:00<00:00, 128.70it/s]"
     ]
    },
    {
     "name": "stdout",
     "output_type": "stream",
     "text": [
      "C:/Users/34942/Desktop/VidTIMIT_2/mpdf0_si2172.avi\n"
     ]
    },
    {
     "name": "stderr",
     "output_type": "stream",
     "text": [
      "100%|███████████████████████████████████████████████████████████████████████████████| 100/100 [00:00<00:00, 135.56it/s]\n",
      " 13%|██████████▎                                                                     | 15/116 [00:00<00:00, 145.63it/s]"
     ]
    },
    {
     "name": "stdout",
     "output_type": "stream",
     "text": [
      "C:/Users/34942/Desktop/VidTIMIT_2/mpdf0_si912.avi\n"
     ]
    },
    {
     "name": "stderr",
     "output_type": "stream",
     "text": [
      "100%|███████████████████████████████████████████████████████████████████████████████| 116/116 [00:00<00:00, 140.73it/s]\n",
      " 13%|██████████▌                                                                     | 16/121 [00:00<00:00, 156.85it/s]"
     ]
    },
    {
     "name": "stdout",
     "output_type": "stream",
     "text": [
      "C:/Users/34942/Desktop/VidTIMIT_2/mpdf0_sx102.avi\n"
     ]
    },
    {
     "name": "stderr",
     "output_type": "stream",
     "text": [
      "100%|███████████████████████████████████████████████████████████████████████████████| 121/121 [00:00<00:00, 152.74it/s]\n",
      " 21%|█████████████████                                                                | 15/71 [00:00<00:00, 149.99it/s]"
     ]
    },
    {
     "name": "stdout",
     "output_type": "stream",
     "text": [
      "C:/Users/34942/Desktop/VidTIMIT_2/mpdf0_sx12.avi\n"
     ]
    },
    {
     "name": "stderr",
     "output_type": "stream",
     "text": [
      "100%|█████████████████████████████████████████████████████████████████████████████████| 71/71 [00:00<00:00, 143.85it/s]\n",
      " 17%|██████████████▏                                                                  | 15/86 [00:00<00:00, 143.38it/s]"
     ]
    },
    {
     "name": "stdout",
     "output_type": "stream",
     "text": [
      "C:/Users/34942/Desktop/VidTIMIT_2/mpdf0_sx192.avi\n"
     ]
    },
    {
     "name": "stderr",
     "output_type": "stream",
     "text": [
      "100%|█████████████████████████████████████████████████████████████████████████████████| 86/86 [00:00<00:00, 140.34it/s]\n",
      " 17%|█████████████▊                                                                   | 16/94 [00:00<00:00, 159.74it/s]"
     ]
    },
    {
     "name": "stdout",
     "output_type": "stream",
     "text": [
      "C:/Users/34942/Desktop/VidTIMIT_2/mpdf0_sx282.avi\n"
     ]
    },
    {
     "name": "stderr",
     "output_type": "stream",
     "text": [
      "100%|█████████████████████████████████████████████████████████████████████████████████| 94/94 [00:00<00:00, 159.09it/s]\n",
      " 17%|█████████████▎                                                                  | 17/102 [00:00<00:00, 165.32it/s]"
     ]
    },
    {
     "name": "stdout",
     "output_type": "stream",
     "text": [
      "C:/Users/34942/Desktop/VidTIMIT_2/mpdf0_sx372.avi\n"
     ]
    },
    {
     "name": "stderr",
     "output_type": "stream",
     "text": [
      "100%|███████████████████████████████████████████████████████████████████████████████| 102/102 [00:00<00:00, 150.30it/s]\n",
      "  4%|██▉                                                                             | 15/407 [00:00<00:02, 139.86it/s]"
     ]
    },
    {
     "name": "stdout",
     "output_type": "stream",
     "text": [
      "C:/Users/34942/Desktop/VidTIMIT_2/mpgl0_head.avi\n"
     ]
    },
    {
     "name": "stderr",
     "output_type": "stream",
     "text": [
      "100%|███████████████████████████████████████████████████████████████████████████████| 407/407 [00:02<00:00, 147.75it/s]\n",
      "  5%|███▊                                                                            | 16/340 [00:00<00:02, 159.79it/s]"
     ]
    },
    {
     "name": "stdout",
     "output_type": "stream",
     "text": [
      "C:/Users/34942/Desktop/VidTIMIT_2/mpgl0_head2.avi\n"
     ]
    },
    {
     "name": "stderr",
     "output_type": "stream",
     "text": [
      "100%|███████████████████████████████████████████████████████████████████████████████| 340/340 [00:02<00:00, 149.99it/s]\n",
      "  4%|███▌                                                                            | 15/340 [00:00<00:02, 146.28it/s]"
     ]
    },
    {
     "name": "stdout",
     "output_type": "stream",
     "text": [
      "C:/Users/34942/Desktop/VidTIMIT_2/mpgl0_head3.avi\n"
     ]
    },
    {
     "name": "stderr",
     "output_type": "stream",
     "text": [
      "100%|███████████████████████████████████████████████████████████████████████████████| 340/340 [00:02<00:00, 140.46it/s]\n",
      " 17%|█████████████▏                                                                  | 17/103 [00:00<00:00, 158.27it/s]"
     ]
    },
    {
     "name": "stdout",
     "output_type": "stream",
     "text": [
      "C:/Users/34942/Desktop/VidTIMIT_2/mpgl0_sa1.avi\n"
     ]
    },
    {
     "name": "stderr",
     "output_type": "stream",
     "text": [
      "100%|███████████████████████████████████████████████████████████████████████████████| 103/103 [00:00<00:00, 153.10it/s]\n",
      " 18%|██████████████▊                                                                  | 15/82 [00:00<00:00, 145.74it/s]"
     ]
    },
    {
     "name": "stdout",
     "output_type": "stream",
     "text": [
      "C:/Users/34942/Desktop/VidTIMIT_2/mpgl0_sa2.avi\n"
     ]
    },
    {
     "name": "stderr",
     "output_type": "stream",
     "text": [
      "100%|█████████████████████████████████████████████████████████████████████████████████| 82/82 [00:00<00:00, 139.37it/s]\n",
      " 19%|███████████████▊                                                                 | 14/72 [00:00<00:00, 139.43it/s]"
     ]
    },
    {
     "name": "stdout",
     "output_type": "stream",
     "text": [
      "C:/Users/34942/Desktop/VidTIMIT_2/mpgl0_si1099.avi\n"
     ]
    },
    {
     "name": "stderr",
     "output_type": "stream",
     "text": [
      "100%|█████████████████████████████████████████████████████████████████████████████████| 72/72 [00:00<00:00, 126.14it/s]\n",
      " 12%|█████████▏                                                                      | 12/104 [00:00<00:00, 116.64it/s]"
     ]
    },
    {
     "name": "stdout",
     "output_type": "stream",
     "text": [
      "C:/Users/34942/Desktop/VidTIMIT_2/mpgl0_si1729.avi\n"
     ]
    },
    {
     "name": "stderr",
     "output_type": "stream",
     "text": [
      "100%|███████████████████████████████████████████████████████████████████████████████| 104/104 [00:00<00:00, 134.24it/s]\n",
      " 17%|██████████████                                                                   | 16/92 [00:00<00:00, 153.03it/s]"
     ]
    },
    {
     "name": "stdout",
     "output_type": "stream",
     "text": [
      "C:/Users/34942/Desktop/VidTIMIT_2/mpgl0_si469.avi\n"
     ]
    },
    {
     "name": "stderr",
     "output_type": "stream",
     "text": [
      "100%|█████████████████████████████████████████████████████████████████████████████████| 92/92 [00:00<00:00, 154.19it/s]\n",
      " 14%|██████████▉                                                                     | 15/110 [00:00<00:00, 146.32it/s]"
     ]
    },
    {
     "name": "stdout",
     "output_type": "stream",
     "text": [
      "C:/Users/34942/Desktop/VidTIMIT_2/mpgl0_sx109.avi\n"
     ]
    },
    {
     "name": "stderr",
     "output_type": "stream",
     "text": [
      "100%|███████████████████████████████████████████████████████████████████████████████| 110/110 [00:00<00:00, 136.21it/s]\n",
      " 34%|███████████████████████████▌                                                     | 30/88 [00:00<00:00, 147.17it/s]"
     ]
    },
    {
     "name": "stdout",
     "output_type": "stream",
     "text": [
      "C:/Users/34942/Desktop/VidTIMIT_2/mpgl0_sx19.avi\n"
     ]
    },
    {
     "name": "stderr",
     "output_type": "stream",
     "text": [
      "100%|█████████████████████████████████████████████████████████████████████████████████| 88/88 [00:00<00:00, 143.34it/s]\n",
      " 16%|████████████▉                                                                    | 15/94 [00:00<00:00, 147.05it/s]"
     ]
    },
    {
     "name": "stdout",
     "output_type": "stream",
     "text": [
      "C:/Users/34942/Desktop/VidTIMIT_2/mpgl0_sx199.avi\n"
     ]
    },
    {
     "name": "stderr",
     "output_type": "stream",
     "text": [
      "100%|█████████████████████████████████████████████████████████████████████████████████| 94/94 [00:00<00:00, 131.96it/s]\n",
      " 16%|█████████████▏                                                                   | 16/98 [00:00<00:00, 156.85it/s]"
     ]
    },
    {
     "name": "stdout",
     "output_type": "stream",
     "text": [
      "C:/Users/34942/Desktop/VidTIMIT_2/mpgl0_sx289.avi\n"
     ]
    },
    {
     "name": "stderr",
     "output_type": "stream",
     "text": [
      "100%|█████████████████████████████████████████████████████████████████████████████████| 98/98 [00:00<00:00, 151.44it/s]\n",
      " 18%|██████████████▏                                                                  | 16/91 [00:00<00:00, 157.55it/s]"
     ]
    },
    {
     "name": "stdout",
     "output_type": "stream",
     "text": [
      "C:/Users/34942/Desktop/VidTIMIT_2/mpgl0_sx379.avi\n"
     ]
    },
    {
     "name": "stderr",
     "output_type": "stream",
     "text": [
      "100%|█████████████████████████████████████████████████████████████████████████████████| 91/91 [00:00<00:00, 140.40it/s]\n",
      "  3%|██▏                                                                             | 13/483 [00:00<00:03, 129.99it/s]"
     ]
    },
    {
     "name": "stdout",
     "output_type": "stream",
     "text": [
      "C:/Users/34942/Desktop/VidTIMIT_2/mrcz0_head.avi\n"
     ]
    },
    {
     "name": "stderr",
     "output_type": "stream",
     "text": [
      "100%|███████████████████████████████████████████████████████████████████████████████| 483/483 [00:03<00:00, 151.35it/s]\n",
      "  4%|███▏                                                                            | 17/424 [00:00<00:02, 164.08it/s]"
     ]
    },
    {
     "name": "stdout",
     "output_type": "stream",
     "text": [
      "C:/Users/34942/Desktop/VidTIMIT_2/mrcz0_head2.avi\n"
     ]
    },
    {
     "name": "stderr",
     "output_type": "stream",
     "text": [
      "100%|███████████████████████████████████████████████████████████████████████████████| 424/424 [00:02<00:00, 150.89it/s]\n",
      "  8%|██████▎                                                                         | 30/383 [00:00<00:02, 148.94it/s]"
     ]
    },
    {
     "name": "stdout",
     "output_type": "stream",
     "text": [
      "C:/Users/34942/Desktop/VidTIMIT_2/mrcz0_head3.avi\n"
     ]
    },
    {
     "name": "stderr",
     "output_type": "stream",
     "text": [
      "100%|███████████████████████████████████████████████████████████████████████████████| 383/383 [00:02<00:00, 146.64it/s]\n",
      " 15%|████████████▏                                                                   | 16/105 [00:00<00:00, 159.99it/s]"
     ]
    },
    {
     "name": "stdout",
     "output_type": "stream",
     "text": [
      "C:/Users/34942/Desktop/VidTIMIT_2/mrcz0_sa1.avi\n"
     ]
    },
    {
     "name": "stderr",
     "output_type": "stream",
     "text": [
      "100%|███████████████████████████████████████████████████████████████████████████████| 105/105 [00:00<00:00, 152.85it/s]\n",
      " 16%|█████████████▎                                                                   | 16/97 [00:00<00:00, 152.91it/s]"
     ]
    },
    {
     "name": "stdout",
     "output_type": "stream",
     "text": [
      "C:/Users/34942/Desktop/VidTIMIT_2/mrcz0_sa2.avi\n"
     ]
    },
    {
     "name": "stderr",
     "output_type": "stream",
     "text": [
      "100%|█████████████████████████████████████████████████████████████████████████████████| 97/97 [00:00<00:00, 140.34it/s]\n",
      " 11%|████████▋                                                                       | 13/120 [00:00<00:00, 126.61it/s]"
     ]
    },
    {
     "name": "stdout",
     "output_type": "stream",
     "text": [
      "C:/Users/34942/Desktop/VidTIMIT_2/mrcz0_si1541.avi\n"
     ]
    },
    {
     "name": "stderr",
     "output_type": "stream",
     "text": [
      "100%|███████████████████████████████████████████████████████████████████████████████| 120/120 [00:00<00:00, 140.33it/s]\n",
      " 23%|██████████████████▎                                                              | 17/75 [00:00<00:00, 154.40it/s]"
     ]
    },
    {
     "name": "stdout",
     "output_type": "stream",
     "text": [
      "C:/Users/34942/Desktop/VidTIMIT_2/mrcz0_si2171.avi\n"
     ]
    },
    {
     "name": "stderr",
     "output_type": "stream",
     "text": [
      "100%|█████████████████████████████████████████████████████████████████████████████████| 75/75 [00:00<00:00, 155.29it/s]\n",
      " 16%|█████████████                                                                    | 16/99 [00:00<00:00, 159.89it/s]"
     ]
    },
    {
     "name": "stdout",
     "output_type": "stream",
     "text": [
      "C:/Users/34942/Desktop/VidTIMIT_2/mrcz0_si911.avi\n"
     ]
    },
    {
     "name": "stderr",
     "output_type": "stream",
     "text": [
      "100%|█████████████████████████████████████████████████████████████████████████████████| 99/99 [00:00<00:00, 151.26it/s]\n",
      " 11%|████████▍                                                                       | 12/114 [00:00<00:00, 118.04it/s]"
     ]
    },
    {
     "name": "stdout",
     "output_type": "stream",
     "text": [
      "C:/Users/34942/Desktop/VidTIMIT_2/mrcz0_sx101.avi\n"
     ]
    },
    {
     "name": "stderr",
     "output_type": "stream",
     "text": [
      "100%|███████████████████████████████████████████████████████████████████████████████| 114/114 [00:00<00:00, 134.16it/s]\n",
      " 18%|██████████████▉                                                                  | 14/76 [00:00<00:00, 136.31it/s]"
     ]
    },
    {
     "name": "stdout",
     "output_type": "stream",
     "text": [
      "C:/Users/34942/Desktop/VidTIMIT_2/mrcz0_sx11.avi\n"
     ]
    },
    {
     "name": "stderr",
     "output_type": "stream",
     "text": [
      "100%|█████████████████████████████████████████████████████████████████████████████████| 76/76 [00:00<00:00, 143.73it/s]\n",
      " 14%|███████████▍                                                                    | 16/112 [00:00<00:00, 149.52it/s]"
     ]
    },
    {
     "name": "stdout",
     "output_type": "stream",
     "text": [
      "C:/Users/34942/Desktop/VidTIMIT_2/mrcz0_sx191.avi\n"
     ]
    },
    {
     "name": "stderr",
     "output_type": "stream",
     "text": [
      "100%|███████████████████████████████████████████████████████████████████████████████| 112/112 [00:00<00:00, 134.10it/s]\n",
      " 11%|█████████                                                                       | 13/115 [00:00<00:00, 122.63it/s]"
     ]
    },
    {
     "name": "stdout",
     "output_type": "stream",
     "text": [
      "C:/Users/34942/Desktop/VidTIMIT_2/mrcz0_sx281.avi\n"
     ]
    },
    {
     "name": "stderr",
     "output_type": "stream",
     "text": [
      "100%|███████████████████████████████████████████████████████████████████████████████| 115/115 [00:00<00:00, 117.24it/s]\n",
      " 25%|████████████████████▎                                                           | 30/118 [00:00<00:00, 149.45it/s]"
     ]
    },
    {
     "name": "stdout",
     "output_type": "stream",
     "text": [
      "C:/Users/34942/Desktop/VidTIMIT_2/mrcz0_sx371.avi\n"
     ]
    },
    {
     "name": "stderr",
     "output_type": "stream",
     "text": [
      "100%|███████████████████████████████████████████████████████████████████████████████| 118/118 [00:00<00:00, 148.75it/s]\n",
      "  2%|█▋                                                                              | 15/722 [00:00<00:04, 147.05it/s]"
     ]
    },
    {
     "name": "stdout",
     "output_type": "stream",
     "text": [
      "C:/Users/34942/Desktop/VidTIMIT_2/mrgg0_head.avi\n"
     ]
    },
    {
     "name": "stderr",
     "output_type": "stream",
     "text": [
      "100%|███████████████████████████████████████████████████████████████████████████████| 722/722 [00:04<00:00, 147.72it/s]\n",
      "  2%|█▎                                                                             | 17/1058 [00:00<00:06, 157.16it/s]"
     ]
    },
    {
     "name": "stdout",
     "output_type": "stream",
     "text": [
      "C:/Users/34942/Desktop/VidTIMIT_2/mrgg0_head2.avi\n"
     ]
    },
    {
     "name": "stderr",
     "output_type": "stream",
     "text": [
      "100%|█████████████████████████████████████████████████████████████████████████████| 1058/1058 [00:07<00:00, 149.75it/s]\n",
      "  1%|█                                                                              | 16/1180 [00:00<00:07, 149.63it/s]"
     ]
    },
    {
     "name": "stdout",
     "output_type": "stream",
     "text": [
      "C:/Users/34942/Desktop/VidTIMIT_2/mrgg0_head3.avi\n"
     ]
    },
    {
     "name": "stderr",
     "output_type": "stream",
     "text": [
      "100%|█████████████████████████████████████████████████████████████████████████████| 1180/1180 [00:07<00:00, 155.72it/s]\n",
      " 12%|█████████▌                                                                      | 16/134 [00:00<00:00, 158.40it/s]"
     ]
    },
    {
     "name": "stdout",
     "output_type": "stream",
     "text": [
      "C:/Users/34942/Desktop/VidTIMIT_2/mrgg0_sa1.avi\n"
     ]
    },
    {
     "name": "stderr",
     "output_type": "stream",
     "text": [
      "100%|███████████████████████████████████████████████████████████████████████████████| 134/134 [00:00<00:00, 154.62it/s]\n",
      " 11%|█████████▏                                                                      | 17/148 [00:00<00:00, 165.91it/s]"
     ]
    },
    {
     "name": "stdout",
     "output_type": "stream",
     "text": [
      "C:/Users/34942/Desktop/VidTIMIT_2/mrgg0_sa2.avi\n"
     ]
    },
    {
     "name": "stderr",
     "output_type": "stream",
     "text": [
      "100%|███████████████████████████████████████████████████████████████████████████████| 148/148 [00:01<00:00, 133.91it/s]\n",
      " 14%|██████████▊                                                                     | 16/118 [00:00<00:00, 150.17it/s]"
     ]
    },
    {
     "name": "stdout",
     "output_type": "stream",
     "text": [
      "C:/Users/34942/Desktop/VidTIMIT_2/mrgg0_si1199.avi\n"
     ]
    },
    {
     "name": "stderr",
     "output_type": "stream",
     "text": [
      "100%|███████████████████████████████████████████████████████████████████████████████| 118/118 [00:00<00:00, 146.57it/s]\n",
      "  6%|█████                                                                           | 15/240 [00:00<00:01, 146.72it/s]"
     ]
    },
    {
     "name": "stdout",
     "output_type": "stream",
     "text": [
      "C:/Users/34942/Desktop/VidTIMIT_2/mrgg0_si1829.avi\n"
     ]
    },
    {
     "name": "stderr",
     "output_type": "stream",
     "text": [
      "100%|███████████████████████████████████████████████████████████████████████████████| 240/240 [00:01<00:00, 145.16it/s]\n",
      " 14%|███████████                                                                     | 14/101 [00:00<00:00, 135.27it/s]"
     ]
    },
    {
     "name": "stdout",
     "output_type": "stream",
     "text": [
      "C:/Users/34942/Desktop/VidTIMIT_2/mrgg0_si569.avi\n"
     ]
    },
    {
     "name": "stderr",
     "output_type": "stream",
     "text": [
      "100%|███████████████████████████████████████████████████████████████████████████████| 101/101 [00:00<00:00, 150.06it/s]\n",
      " 13%|██████████▏                                                                     | 15/118 [00:00<00:00, 145.62it/s]"
     ]
    },
    {
     "name": "stdout",
     "output_type": "stream",
     "text": [
      "C:/Users/34942/Desktop/VidTIMIT_2/mrgg0_sx119.avi\n"
     ]
    },
    {
     "name": "stderr",
     "output_type": "stream",
     "text": [
      "100%|███████████████████████████████████████████████████████████████████████████████| 118/118 [00:00<00:00, 142.83it/s]\n",
      " 24%|███████████████████                                                             | 29/122 [00:00<00:00, 143.25it/s]"
     ]
    },
    {
     "name": "stdout",
     "output_type": "stream",
     "text": [
      "C:/Users/34942/Desktop/VidTIMIT_2/mrgg0_sx209.avi\n"
     ]
    },
    {
     "name": "stderr",
     "output_type": "stream",
     "text": [
      "100%|███████████████████████████████████████████████████████████████████████████████| 122/122 [00:00<00:00, 139.50it/s]\n",
      " 14%|██████████▉                                                                     | 16/117 [00:00<00:00, 158.41it/s]"
     ]
    },
    {
     "name": "stdout",
     "output_type": "stream",
     "text": [
      "C:/Users/34942/Desktop/VidTIMIT_2/mrgg0_sx29.avi\n"
     ]
    },
    {
     "name": "stderr",
     "output_type": "stream",
     "text": [
      "100%|███████████████████████████████████████████████████████████████████████████████| 117/117 [00:00<00:00, 123.96it/s]\n",
      " 10%|███████▊                                                                        | 12/122 [00:00<00:01, 105.72it/s]"
     ]
    },
    {
     "name": "stdout",
     "output_type": "stream",
     "text": [
      "C:/Users/34942/Desktop/VidTIMIT_2/mrgg0_sx299.avi\n"
     ]
    },
    {
     "name": "stderr",
     "output_type": "stream",
     "text": [
      "100%|███████████████████████████████████████████████████████████████████████████████| 122/122 [00:01<00:00, 115.80it/s]\n",
      " 13%|██████████▎                                                                     | 15/116 [00:00<00:00, 149.55it/s]"
     ]
    },
    {
     "name": "stdout",
     "output_type": "stream",
     "text": [
      "C:/Users/34942/Desktop/VidTIMIT_2/mrgg0_sx389.avi\n"
     ]
    },
    {
     "name": "stderr",
     "output_type": "stream",
     "text": [
      "100%|███████████████████████████████████████████████████████████████████████████████| 116/116 [00:00<00:00, 120.96it/s]\n",
      "  3%|██▏                                                                             | 17/605 [00:00<00:03, 163.15it/s]"
     ]
    },
    {
     "name": "stdout",
     "output_type": "stream",
     "text": [
      "C:/Users/34942/Desktop/VidTIMIT_2/mrjo0_head.avi\n"
     ]
    },
    {
     "name": "stderr",
     "output_type": "stream",
     "text": [
      "100%|███████████████████████████████████████████████████████████████████████████████| 605/605 [00:04<00:00, 145.26it/s]\n",
      "  4%|██▉                                                                             | 16/445 [00:00<00:02, 149.01it/s]"
     ]
    },
    {
     "name": "stdout",
     "output_type": "stream",
     "text": [
      "C:/Users/34942/Desktop/VidTIMIT_2/mrjo0_head2.avi\n"
     ]
    },
    {
     "name": "stderr",
     "output_type": "stream",
     "text": [
      "100%|███████████████████████████████████████████████████████████████████████████████| 445/445 [00:03<00:00, 144.77it/s]\n",
      "  3%|██▋                                                                             | 15/457 [00:00<00:03, 140.18it/s]"
     ]
    },
    {
     "name": "stdout",
     "output_type": "stream",
     "text": [
      "C:/Users/34942/Desktop/VidTIMIT_2/mrjo0_head3.avi\n"
     ]
    },
    {
     "name": "stderr",
     "output_type": "stream",
     "text": [
      "100%|███████████████████████████████████████████████████████████████████████████████| 457/457 [00:03<00:00, 140.63it/s]\n",
      " 13%|██████████▏                                                                     | 15/118 [00:00<00:00, 143.23it/s]"
     ]
    },
    {
     "name": "stdout",
     "output_type": "stream",
     "text": [
      "C:/Users/34942/Desktop/VidTIMIT_2/mrjo0_sa1.avi\n"
     ]
    },
    {
     "name": "stderr",
     "output_type": "stream",
     "text": [
      "100%|███████████████████████████████████████████████████████████████████████████████| 118/118 [00:00<00:00, 134.74it/s]\n",
      " 17%|█████████████▉                                                                   | 15/87 [00:00<00:00, 144.76it/s]"
     ]
    },
    {
     "name": "stdout",
     "output_type": "stream",
     "text": [
      "C:/Users/34942/Desktop/VidTIMIT_2/mrjo0_sa2.avi\n"
     ]
    },
    {
     "name": "stderr",
     "output_type": "stream",
     "text": [
      "100%|██████████████████████████████████████████████████████████████████████████████████| 87/87 [00:01<00:00, 73.98it/s]\n",
      "  7%|█████▎                                                                            | 9/138 [00:00<00:01, 89.26it/s]"
     ]
    },
    {
     "name": "stdout",
     "output_type": "stream",
     "text": [
      "C:/Users/34942/Desktop/VidTIMIT_2/mrjo0_si1364.avi\n"
     ]
    },
    {
     "name": "stderr",
     "output_type": "stream",
     "text": [
      "100%|████████████████████████████████████████████████████████████████████████████████| 138/138 [00:01<00:00, 91.46it/s]\n",
      " 14%|███████████▌                                                                     | 11/77 [00:00<00:00, 109.63it/s]"
     ]
    },
    {
     "name": "stdout",
     "output_type": "stream",
     "text": [
      "C:/Users/34942/Desktop/VidTIMIT_2/mrjo0_si1624.avi\n"
     ]
    },
    {
     "name": "stderr",
     "output_type": "stream",
     "text": [
      "100%|██████████████████████████████████████████████████████████████████████████████████| 77/77 [00:00<00:00, 88.67it/s]\n",
      "  8%|██████                                                                          | 12/159 [00:00<00:01, 113.93it/s]"
     ]
    },
    {
     "name": "stdout",
     "output_type": "stream",
     "text": [
      "C:/Users/34942/Desktop/VidTIMIT_2/mrjo0_si734.avi\n"
     ]
    },
    {
     "name": "stderr",
     "output_type": "stream",
     "text": [
      "100%|███████████████████████████████████████████████████████████████████████████████| 159/159 [00:01<00:00, 115.24it/s]\n",
      " 16%|█████████████▏                                                                   | 14/86 [00:00<00:00, 133.65it/s]"
     ]
    },
    {
     "name": "stdout",
     "output_type": "stream",
     "text": [
      "C:/Users/34942/Desktop/VidTIMIT_2/mrjo0_sx104.avi\n"
     ]
    },
    {
     "name": "stderr",
     "output_type": "stream",
     "text": [
      "100%|█████████████████████████████████████████████████████████████████████████████████| 86/86 [00:00<00:00, 128.41it/s]\n",
      " 11%|████████▉                                                                       | 13/117 [00:00<00:00, 127.21it/s]"
     ]
    },
    {
     "name": "stdout",
     "output_type": "stream",
     "text": [
      "C:/Users/34942/Desktop/VidTIMIT_2/mrjo0_sx14.avi\n"
     ]
    },
    {
     "name": "stderr",
     "output_type": "stream",
     "text": [
      "100%|███████████████████████████████████████████████████████████████████████████████| 117/117 [00:01<00:00, 107.40it/s]\n",
      " 15%|████████████▍                                                                    | 11/72 [00:00<00:00, 106.14it/s]"
     ]
    },
    {
     "name": "stdout",
     "output_type": "stream",
     "text": [
      "C:/Users/34942/Desktop/VidTIMIT_2/mrjo0_sx194.avi\n"
     ]
    },
    {
     "name": "stderr",
     "output_type": "stream",
     "text": [
      "100%|██████████████████████████████████████████████████████████████████████████████████| 72/72 [00:00<00:00, 95.38it/s]\n",
      " 10%|████████▎                                                                       | 11/106 [00:00<00:00, 104.86it/s]"
     ]
    },
    {
     "name": "stdout",
     "output_type": "stream",
     "text": [
      "C:/Users/34942/Desktop/VidTIMIT_2/mrjo0_sx284.avi\n"
     ]
    },
    {
     "name": "stderr",
     "output_type": "stream",
     "text": [
      "100%|████████████████████████████████████████████████████████████████████████████████| 106/106 [00:01<00:00, 98.54it/s]\n",
      " 14%|██████████▉                                                                      | 13/96 [00:00<00:00, 128.54it/s]"
     ]
    },
    {
     "name": "stdout",
     "output_type": "stream",
     "text": [
      "C:/Users/34942/Desktop/VidTIMIT_2/mrjo0_sx374.avi\n"
     ]
    },
    {
     "name": "stderr",
     "output_type": "stream",
     "text": [
      "100%|█████████████████████████████████████████████████████████████████████████████████| 96/96 [00:00<00:00, 108.38it/s]\n",
      "  3%|██▏                                                                             | 11/414 [00:00<00:03, 108.77it/s]"
     ]
    },
    {
     "name": "stdout",
     "output_type": "stream",
     "text": [
      "C:/Users/34942/Desktop/VidTIMIT_2/msjs1_head.avi\n"
     ]
    },
    {
     "name": "stderr",
     "output_type": "stream",
     "text": [
      "100%|███████████████████████████████████████████████████████████████████████████████| 414/414 [00:03<00:00, 117.89it/s]\n",
      "  3%|██▎                                                                             | 11/371 [00:00<00:03, 105.31it/s]"
     ]
    },
    {
     "name": "stdout",
     "output_type": "stream",
     "text": [
      "C:/Users/34942/Desktop/VidTIMIT_2/msjs1_head2.avi\n"
     ]
    },
    {
     "name": "stderr",
     "output_type": "stream",
     "text": [
      "100%|███████████████████████████████████████████████████████████████████████████████| 371/371 [00:02<00:00, 124.33it/s]\n",
      "  4%|██▉                                                                             | 15/417 [00:00<00:02, 147.45it/s]"
     ]
    },
    {
     "name": "stdout",
     "output_type": "stream",
     "text": [
      "C:/Users/34942/Desktop/VidTIMIT_2/msjs1_head3.avi\n"
     ]
    },
    {
     "name": "stderr",
     "output_type": "stream",
     "text": [
      "100%|███████████████████████████████████████████████████████████████████████████████| 417/417 [00:03<00:00, 134.56it/s]\n",
      " 11%|█████████                                                                       | 13/115 [00:00<00:00, 127.53it/s]"
     ]
    },
    {
     "name": "stdout",
     "output_type": "stream",
     "text": [
      "C:/Users/34942/Desktop/VidTIMIT_2/msjs1_sa1.avi\n"
     ]
    },
    {
     "name": "stderr",
     "output_type": "stream",
     "text": [
      "100%|███████████████████████████████████████████████████████████████████████████████| 115/115 [00:00<00:00, 129.05it/s]\n",
      " 13%|██████████▌                                                                     | 16/121 [00:00<00:00, 149.72it/s]"
     ]
    },
    {
     "name": "stdout",
     "output_type": "stream",
     "text": [
      "C:/Users/34942/Desktop/VidTIMIT_2/msjs1_sa2.avi\n"
     ]
    },
    {
     "name": "stderr",
     "output_type": "stream",
     "text": [
      "100%|███████████████████████████████████████████████████████████████████████████████| 121/121 [00:01<00:00, 109.06it/s]\n",
      " 21%|████████████████▋                                                                | 13/63 [00:00<00:00, 121.08it/s]"
     ]
    },
    {
     "name": "stdout",
     "output_type": "stream",
     "text": [
      "C:/Users/34942/Desktop/VidTIMIT_2/msjs1_si1899.avi\n"
     ]
    },
    {
     "name": "stderr",
     "output_type": "stream",
     "text": [
      "100%|█████████████████████████████████████████████████████████████████████████████████| 63/63 [00:00<00:00, 123.85it/s]\n",
      " 13%|██████████▋                                                                     | 15/112 [00:00<00:00, 137.78it/s]"
     ]
    },
    {
     "name": "stdout",
     "output_type": "stream",
     "text": [
      "C:/Users/34942/Desktop/VidTIMIT_2/msjs1_si639.avi\n"
     ]
    },
    {
     "name": "stderr",
     "output_type": "stream",
     "text": [
      "100%|███████████████████████████████████████████████████████████████████████████████| 112/112 [00:00<00:00, 125.35it/s]\n",
      "  5%|████▎                                                                           | 12/224 [00:00<00:01, 113.92it/s]"
     ]
    },
    {
     "name": "stdout",
     "output_type": "stream",
     "text": [
      "C:/Users/34942/Desktop/VidTIMIT_2/msjs1_si869.avi\n"
     ]
    },
    {
     "name": "stderr",
     "output_type": "stream",
     "text": [
      "100%|███████████████████████████████████████████████████████████████████████████████| 224/224 [00:01<00:00, 126.19it/s]\n",
      " 15%|███████████▋                                                                    | 16/110 [00:00<00:00, 152.51it/s]"
     ]
    },
    {
     "name": "stdout",
     "output_type": "stream",
     "text": [
      "C:/Users/34942/Desktop/VidTIMIT_2/msjs1_sx189.avi\n"
     ]
    },
    {
     "name": "stderr",
     "output_type": "stream",
     "text": [
      "100%|███████████████████████████████████████████████████████████████████████████████| 110/110 [00:00<00:00, 140.54it/s]\n",
      " 12%|█████████▉                                                                      | 16/129 [00:00<00:00, 151.71it/s]"
     ]
    },
    {
     "name": "stdout",
     "output_type": "stream",
     "text": [
      "C:/Users/34942/Desktop/VidTIMIT_2/msjs1_sx279.avi\n"
     ]
    },
    {
     "name": "stderr",
     "output_type": "stream",
     "text": [
      "100%|███████████████████████████████████████████████████████████████████████████████| 129/129 [00:01<00:00, 124.86it/s]\n",
      " 15%|████████████▏                                                                    | 13/86 [00:00<00:00, 119.05it/s]"
     ]
    },
    {
     "name": "stdout",
     "output_type": "stream",
     "text": [
      "C:/Users/34942/Desktop/VidTIMIT_2/msjs1_sx369.avi\n"
     ]
    },
    {
     "name": "stderr",
     "output_type": "stream",
     "text": [
      "100%|█████████████████████████████████████████████████████████████████████████████████| 86/86 [00:00<00:00, 131.58it/s]\n",
      " 17%|█████████████▌                                                                   | 15/90 [00:00<00:00, 125.25it/s]"
     ]
    },
    {
     "name": "stdout",
     "output_type": "stream",
     "text": [
      "C:/Users/34942/Desktop/VidTIMIT_2/msjs1_sx9.avi\n"
     ]
    },
    {
     "name": "stderr",
     "output_type": "stream",
     "text": [
      "100%|█████████████████████████████████████████████████████████████████████████████████| 90/90 [00:00<00:00, 116.80it/s]\n",
      " 11%|█████████                                                                       | 12/106 [00:00<00:00, 110.34it/s]"
     ]
    },
    {
     "name": "stdout",
     "output_type": "stream",
     "text": [
      "C:/Users/34942/Desktop/VidTIMIT_2/msjs1_sx99.avi\n"
     ]
    },
    {
     "name": "stderr",
     "output_type": "stream",
     "text": [
      "100%|███████████████████████████████████████████████████████████████████████████████| 106/106 [00:00<00:00, 119.45it/s]\n",
      "  5%|███▋                                                                            | 15/330 [00:00<00:02, 145.95it/s]"
     ]
    },
    {
     "name": "stdout",
     "output_type": "stream",
     "text": [
      "C:/Users/34942/Desktop/VidTIMIT_2/mstk0_head.avi\n"
     ]
    },
    {
     "name": "stderr",
     "output_type": "stream",
     "text": [
      "100%|███████████████████████████████████████████████████████████████████████████████| 330/330 [00:02<00:00, 121.98it/s]\n",
      "  5%|███▋                                                                            | 14/303 [00:00<00:02, 134.61it/s]"
     ]
    },
    {
     "name": "stdout",
     "output_type": "stream",
     "text": [
      "C:/Users/34942/Desktop/VidTIMIT_2/mstk0_head2.avi\n"
     ]
    },
    {
     "name": "stderr",
     "output_type": "stream",
     "text": [
      "100%|███████████████████████████████████████████████████████████████████████████████| 303/303 [00:02<00:00, 130.47it/s]\n",
      "  5%|███▉                                                                            | 14/288 [00:00<00:02, 135.01it/s]"
     ]
    },
    {
     "name": "stdout",
     "output_type": "stream",
     "text": [
      "C:/Users/34942/Desktop/VidTIMIT_2/mstk0_head3.avi\n"
     ]
    },
    {
     "name": "stderr",
     "output_type": "stream",
     "text": [
      "100%|███████████████████████████████████████████████████████████████████████████████| 288/288 [00:02<00:00, 127.21it/s]\n",
      " 14%|███████████▎                                                                     | 13/93 [00:00<00:00, 128.70it/s]"
     ]
    },
    {
     "name": "stdout",
     "output_type": "stream",
     "text": [
      "C:/Users/34942/Desktop/VidTIMIT_2/mstk0_sa1.avi\n"
     ]
    },
    {
     "name": "stderr",
     "output_type": "stream",
     "text": [
      "100%|█████████████████████████████████████████████████████████████████████████████████| 93/93 [00:00<00:00, 131.20it/s]\n",
      " 18%|██████████████▉                                                                  | 16/87 [00:00<00:00, 147.39it/s]"
     ]
    },
    {
     "name": "stdout",
     "output_type": "stream",
     "text": [
      "C:/Users/34942/Desktop/VidTIMIT_2/mstk0_sa2.avi\n"
     ]
    },
    {
     "name": "stderr",
     "output_type": "stream",
     "text": [
      "100%|█████████████████████████████████████████████████████████████████████████████████| 87/87 [00:00<00:00, 119.63it/s]\n",
      "  6%|████▉                                                                             | 9/150 [00:00<00:01, 89.60it/s]"
     ]
    },
    {
     "name": "stdout",
     "output_type": "stream",
     "text": [
      "C:/Users/34942/Desktop/VidTIMIT_2/mstk0_si1024.avi\n"
     ]
    },
    {
     "name": "stderr",
     "output_type": "stream",
     "text": [
      "100%|███████████████████████████████████████████████████████████████████████████████| 150/150 [00:01<00:00, 121.79it/s]\n",
      " 14%|███████████                                                                     | 15/108 [00:00<00:00, 146.61it/s]"
     ]
    },
    {
     "name": "stdout",
     "output_type": "stream",
     "text": [
      "C:/Users/34942/Desktop/VidTIMIT_2/mstk0_si2222.avi\n"
     ]
    },
    {
     "name": "stderr",
     "output_type": "stream",
     "text": [
      "100%|███████████████████████████████████████████████████████████████████████████████| 108/108 [00:00<00:00, 140.42it/s]\n",
      " 43%|███████████████████████████████████▏                                             | 30/69 [00:00<00:00, 147.99it/s]"
     ]
    },
    {
     "name": "stdout",
     "output_type": "stream",
     "text": [
      "C:/Users/34942/Desktop/VidTIMIT_2/mstk0_si2284.avi\n"
     ]
    },
    {
     "name": "stderr",
     "output_type": "stream",
     "text": [
      "100%|█████████████████████████████████████████████████████████████████████████████████| 69/69 [00:00<00:00, 139.78it/s]\n",
      " 23%|██████████████████▊                                                              | 13/56 [00:00<00:00, 122.64it/s]"
     ]
    },
    {
     "name": "stdout",
     "output_type": "stream",
     "text": [
      "C:/Users/34942/Desktop/VidTIMIT_2/mstk0_sx124.avi\n"
     ]
    },
    {
     "name": "stderr",
     "output_type": "stream",
     "text": [
      "100%|█████████████████████████████████████████████████████████████████████████████████| 56/56 [00:00<00:00, 117.24it/s]\n",
      " 14%|███████████▍                                                                     | 13/92 [00:00<00:00, 121.52it/s]"
     ]
    },
    {
     "name": "stdout",
     "output_type": "stream",
     "text": [
      "C:/Users/34942/Desktop/VidTIMIT_2/mstk0_sx214.avi\n"
     ]
    },
    {
     "name": "stderr",
     "output_type": "stream",
     "text": [
      "100%|█████████████████████████████████████████████████████████████████████████████████| 92/92 [00:00<00:00, 120.54it/s]\n",
      " 13%|██████████▎                                                                      | 12/94 [00:00<00:00, 117.06it/s]"
     ]
    },
    {
     "name": "stdout",
     "output_type": "stream",
     "text": [
      "C:/Users/34942/Desktop/VidTIMIT_2/mstk0_sx304.avi\n"
     ]
    },
    {
     "name": "stderr",
     "output_type": "stream",
     "text": [
      "100%|█████████████████████████████████████████████████████████████████████████████████| 94/94 [00:00<00:00, 126.59it/s]\n",
      " 20%|████████████████▍                                                                | 15/74 [00:00<00:00, 147.77it/s]"
     ]
    },
    {
     "name": "stdout",
     "output_type": "stream",
     "text": [
      "C:/Users/34942/Desktop/VidTIMIT_2/mstk0_sx34.avi\n"
     ]
    },
    {
     "name": "stderr",
     "output_type": "stream",
     "text": [
      "100%|█████████████████████████████████████████████████████████████████████████████████| 74/74 [00:00<00:00, 132.88it/s]\n",
      " 20%|███████████████▊                                                                 | 16/82 [00:00<00:00, 150.54it/s]"
     ]
    },
    {
     "name": "stdout",
     "output_type": "stream",
     "text": [
      "C:/Users/34942/Desktop/VidTIMIT_2/mstk0_sx394.avi\n"
     ]
    },
    {
     "name": "stderr",
     "output_type": "stream",
     "text": [
      "100%|█████████████████████████████████████████████████████████████████████████████████| 82/82 [00:00<00:00, 140.49it/s]\n",
      "  4%|███▍                                                                            | 11/260 [00:00<00:02, 101.57it/s]"
     ]
    },
    {
     "name": "stdout",
     "output_type": "stream",
     "text": [
      "C:/Users/34942/Desktop/VidTIMIT_2/mwbt0_head.avi\n"
     ]
    },
    {
     "name": "stderr",
     "output_type": "stream",
     "text": [
      "100%|███████████████████████████████████████████████████████████████████████████████| 260/260 [00:02<00:00, 119.67it/s]\n",
      "  5%|███▋                                                                            | 16/345 [00:00<00:02, 149.77it/s]"
     ]
    },
    {
     "name": "stdout",
     "output_type": "stream",
     "text": [
      "C:/Users/34942/Desktop/VidTIMIT_2/mwbt0_head2.avi\n"
     ]
    },
    {
     "name": "stderr",
     "output_type": "stream",
     "text": [
      "100%|███████████████████████████████████████████████████████████████████████████████| 345/345 [00:02<00:00, 141.39it/s]\n",
      "  5%|███▊                                                                            | 16/335 [00:00<00:02, 158.41it/s]"
     ]
    },
    {
     "name": "stdout",
     "output_type": "stream",
     "text": [
      "C:/Users/34942/Desktop/VidTIMIT_2/mwbt0_head3.avi\n"
     ]
    },
    {
     "name": "stderr",
     "output_type": "stream",
     "text": [
      "100%|███████████████████████████████████████████████████████████████████████████████| 335/335 [00:02<00:00, 148.88it/s]\n",
      " 29%|███████████████████████                                                         | 30/104 [00:00<00:00, 144.29it/s]"
     ]
    },
    {
     "name": "stdout",
     "output_type": "stream",
     "text": [
      "C:/Users/34942/Desktop/VidTIMIT_2/mwbt0_sa1.avi\n"
     ]
    },
    {
     "name": "stderr",
     "output_type": "stream",
     "text": [
      "100%|███████████████████████████████████████████████████████████████████████████████| 104/104 [00:00<00:00, 148.88it/s]\n",
      " 15%|███████████▉                                                                    | 16/107 [00:00<00:00, 159.99it/s]"
     ]
    },
    {
     "name": "stdout",
     "output_type": "stream",
     "text": [
      "C:/Users/34942/Desktop/VidTIMIT_2/mwbt0_sa2.avi\n"
     ]
    },
    {
     "name": "stderr",
     "output_type": "stream",
     "text": [
      "100%|███████████████████████████████████████████████████████████████████████████████| 107/107 [00:00<00:00, 130.71it/s]\n",
      " 10%|████████                                                                        | 15/150 [00:00<00:00, 140.17it/s]"
     ]
    },
    {
     "name": "stdout",
     "output_type": "stream",
     "text": [
      "C:/Users/34942/Desktop/VidTIMIT_2/mwbt0_si1553.avi\n"
     ]
    },
    {
     "name": "stderr",
     "output_type": "stream",
     "text": [
      "100%|███████████████████████████████████████████████████████████████████████████████| 150/150 [00:01<00:00, 127.57it/s]\n",
      " 29%|███████████████████████▋                                                         | 17/58 [00:00<00:00, 162.41it/s]"
     ]
    },
    {
     "name": "stdout",
     "output_type": "stream",
     "text": [
      "C:/Users/34942/Desktop/VidTIMIT_2/mwbt0_si2183.avi\n"
     ]
    },
    {
     "name": "stderr",
     "output_type": "stream",
     "text": [
      "100%|█████████████████████████████████████████████████████████████████████████████████| 58/58 [00:00<00:00, 154.12it/s]\n",
      " 15%|████████████▏                                                                   | 16/105 [00:00<00:00, 155.17it/s]"
     ]
    },
    {
     "name": "stdout",
     "output_type": "stream",
     "text": [
      "C:/Users/34942/Desktop/VidTIMIT_2/mwbt0_si923.avi\n"
     ]
    },
    {
     "name": "stderr",
     "output_type": "stream",
     "text": [
      "100%|███████████████████████████████████████████████████████████████████████████████| 105/105 [00:00<00:00, 152.26it/s]\n",
      " 18%|██████████████▍                                                                  | 13/73 [00:00<00:00, 123.72it/s]"
     ]
    },
    {
     "name": "stdout",
     "output_type": "stream",
     "text": [
      "C:/Users/34942/Desktop/VidTIMIT_2/mwbt0_sx113.avi\n"
     ]
    },
    {
     "name": "stderr",
     "output_type": "stream",
     "text": [
      "100%|█████████████████████████████████████████████████████████████████████████████████| 73/73 [00:00<00:00, 121.52it/s]\n",
      " 10%|███████▊                                                                        | 11/113 [00:00<00:00, 105.49it/s]"
     ]
    },
    {
     "name": "stdout",
     "output_type": "stream",
     "text": [
      "C:/Users/34942/Desktop/VidTIMIT_2/mwbt0_sx203.avi\n"
     ]
    },
    {
     "name": "stderr",
     "output_type": "stream",
     "text": [
      "100%|███████████████████████████████████████████████████████████████████████████████| 113/113 [00:00<00:00, 122.08it/s]\n",
      " 16%|████████████▋                                                                   | 16/101 [00:00<00:00, 152.05it/s]"
     ]
    },
    {
     "name": "stdout",
     "output_type": "stream",
     "text": [
      "C:/Users/34942/Desktop/VidTIMIT_2/mwbt0_sx23.avi\n"
     ]
    },
    {
     "name": "stderr",
     "output_type": "stream",
     "text": [
      "100%|███████████████████████████████████████████████████████████████████████████████| 101/101 [00:00<00:00, 148.33it/s]\n",
      " 16%|████████████▍                                                                   | 17/109 [00:00<00:00, 157.15it/s]"
     ]
    },
    {
     "name": "stdout",
     "output_type": "stream",
     "text": [
      "C:/Users/34942/Desktop/VidTIMIT_2/mwbt0_sx293.avi\n"
     ]
    },
    {
     "name": "stderr",
     "output_type": "stream",
     "text": [
      "100%|███████████████████████████████████████████████████████████████████████████████| 109/109 [00:00<00:00, 130.06it/s]\n",
      "  9%|███████                                                                            | 8/94 [00:00<00:01, 69.47it/s]"
     ]
    },
    {
     "name": "stdout",
     "output_type": "stream",
     "text": [
      "C:/Users/34942/Desktop/VidTIMIT_2/mwbt0_sx383.avi\n"
     ]
    },
    {
     "name": "stderr",
     "output_type": "stream",
     "text": [
      "100%|██████████████████████████████████████████████████████████████████████████████████| 94/94 [00:00<00:00, 99.25it/s]\n"
     ]
    }
   ],
   "source": [
    "for f_name in f_list:\n",
    "    \n",
    "    path = f_name+split\n",
    "    path = os.path.join(input,path)\n",
    "    #path = path.replace('\\\\','/')\n",
    "    #print(path)\n",
    "    Sid = os.listdir(path)\n",
    "    for id in Sid :\n",
    "        vid_path = os.path.join(path,id)\n",
    "        vid_path = vid_path + \"/\"\n",
    "        #print(vid_path)\n",
    "        vid_split = os.listdir(vid_path)\n",
    "        vid_split.sort()\n",
    "        for file in vid_split :\n",
    "            f = os.path.join(vid_path,file)\n",
    "            #print(f)\n",
    "            gen_list.append(f)\n",
    "        img_size = (512, 384) \n",
    "        fourcc = cv2.VideoWriter_fourcc('M','J','P','G')\n",
    "        save_path = input  + f_name + \"_\" + id +  \".avi\"\n",
    "        print(save_path)\n",
    "        video_writer = cv2.VideoWriter(save_path, fourcc, 25, img_size)\n",
    "        for img in tqdm(gen_list):\n",
    "            image = cv2.imread(img)\n",
    "            video_writer.write(image)     \n",
    "        gen_list.clear()\n",
    "        video_writer.release()\n",
    "    \n",
    "    "
   ]
  },
  {
   "cell_type": "code",
   "execution_count": null,
   "id": "24b4e132",
   "metadata": {},
   "outputs": [],
   "source": []
  }
 ],
 "metadata": {
  "kernelspec": {
   "display_name": "Python 3",
   "language": "python",
   "name": "python3"
  },
  "language_info": {
   "codemirror_mode": {
    "name": "ipython",
    "version": 3
   },
   "file_extension": ".py",
   "mimetype": "text/x-python",
   "name": "python",
   "nbconvert_exporter": "python",
   "pygments_lexer": "ipython3",
   "version": "3.7.4"
  }
 },
 "nbformat": 4,
 "nbformat_minor": 5
}
